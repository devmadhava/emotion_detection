{
  "nbformat": 4,
  "nbformat_minor": 0,
  "metadata": {
    "colab": {
      "provenance": [],
      "gpuType": "T4",
      "toc_visible": true
    },
    "kernelspec": {
      "name": "python3",
      "display_name": "Python 3"
    },
    "language_info": {
      "name": "python"
    },
    "accelerator": "GPU"
  },
  "cells": [
    {
      "cell_type": "markdown",
      "source": [
        "# Installing Dependencies"
      ],
      "metadata": {
        "id": "9NSwJ8T6FZ0C"
      }
    },
    {
      "cell_type": "code",
      "execution_count": null,
      "metadata": {
        "colab": {
          "base_uri": "https://localhost:8080/"
        },
        "id": "lhyTRi6LFB1J",
        "outputId": "2c67b321-3400-4753-948f-57b149714695",
        "collapsed": true
      },
      "outputs": [
        {
          "output_type": "stream",
          "name": "stdout",
          "text": [
            "Requirement already satisfied: torch in /usr/local/lib/python3.12/dist-packages (2.8.0+cu126)\n",
            "Requirement already satisfied: torchvision in /usr/local/lib/python3.12/dist-packages (0.23.0+cu126)\n",
            "Requirement already satisfied: opencv-python in /usr/local/lib/python3.12/dist-packages (4.12.0.88)\n",
            "Requirement already satisfied: matplotlib in /usr/local/lib/python3.12/dist-packages (3.10.0)\n",
            "Requirement already satisfied: scikit-learn in /usr/local/lib/python3.12/dist-packages (1.6.1)\n",
            "Requirement already satisfied: kaggle in /usr/local/lib/python3.12/dist-packages (1.7.4.5)\n",
            "Collecting onnx\n",
            "  Downloading onnx-1.19.0-cp312-cp312-manylinux2014_x86_64.manylinux_2_17_x86_64.whl.metadata (7.0 kB)\n",
            "Collecting onnxruntime\n",
            "  Downloading onnxruntime-1.22.1-cp312-cp312-manylinux_2_27_x86_64.manylinux_2_28_x86_64.whl.metadata (4.9 kB)\n",
            "Requirement already satisfied: filelock in /usr/local/lib/python3.12/dist-packages (from torch) (3.19.1)\n",
            "Requirement already satisfied: typing-extensions>=4.10.0 in /usr/local/lib/python3.12/dist-packages (from torch) (4.15.0)\n",
            "Requirement already satisfied: setuptools in /usr/local/lib/python3.12/dist-packages (from torch) (75.2.0)\n",
            "Requirement already satisfied: sympy>=1.13.3 in /usr/local/lib/python3.12/dist-packages (from torch) (1.13.3)\n",
            "Requirement already satisfied: networkx in /usr/local/lib/python3.12/dist-packages (from torch) (3.5)\n",
            "Requirement already satisfied: jinja2 in /usr/local/lib/python3.12/dist-packages (from torch) (3.1.6)\n",
            "Requirement already satisfied: fsspec in /usr/local/lib/python3.12/dist-packages (from torch) (2025.3.0)\n",
            "Requirement already satisfied: nvidia-cuda-nvrtc-cu12==12.6.77 in /usr/local/lib/python3.12/dist-packages (from torch) (12.6.77)\n",
            "Requirement already satisfied: nvidia-cuda-runtime-cu12==12.6.77 in /usr/local/lib/python3.12/dist-packages (from torch) (12.6.77)\n",
            "Requirement already satisfied: nvidia-cuda-cupti-cu12==12.6.80 in /usr/local/lib/python3.12/dist-packages (from torch) (12.6.80)\n",
            "Requirement already satisfied: nvidia-cudnn-cu12==9.10.2.21 in /usr/local/lib/python3.12/dist-packages (from torch) (9.10.2.21)\n",
            "Requirement already satisfied: nvidia-cublas-cu12==12.6.4.1 in /usr/local/lib/python3.12/dist-packages (from torch) (12.6.4.1)\n",
            "Requirement already satisfied: nvidia-cufft-cu12==11.3.0.4 in /usr/local/lib/python3.12/dist-packages (from torch) (11.3.0.4)\n",
            "Requirement already satisfied: nvidia-curand-cu12==10.3.7.77 in /usr/local/lib/python3.12/dist-packages (from torch) (10.3.7.77)\n",
            "Requirement already satisfied: nvidia-cusolver-cu12==11.7.1.2 in /usr/local/lib/python3.12/dist-packages (from torch) (11.7.1.2)\n",
            "Requirement already satisfied: nvidia-cusparse-cu12==12.5.4.2 in /usr/local/lib/python3.12/dist-packages (from torch) (12.5.4.2)\n",
            "Requirement already satisfied: nvidia-cusparselt-cu12==0.7.1 in /usr/local/lib/python3.12/dist-packages (from torch) (0.7.1)\n",
            "Requirement already satisfied: nvidia-nccl-cu12==2.27.3 in /usr/local/lib/python3.12/dist-packages (from torch) (2.27.3)\n",
            "Requirement already satisfied: nvidia-nvtx-cu12==12.6.77 in /usr/local/lib/python3.12/dist-packages (from torch) (12.6.77)\n",
            "Requirement already satisfied: nvidia-nvjitlink-cu12==12.6.85 in /usr/local/lib/python3.12/dist-packages (from torch) (12.6.85)\n",
            "Requirement already satisfied: nvidia-cufile-cu12==1.11.1.6 in /usr/local/lib/python3.12/dist-packages (from torch) (1.11.1.6)\n",
            "Requirement already satisfied: triton==3.4.0 in /usr/local/lib/python3.12/dist-packages (from torch) (3.4.0)\n",
            "Requirement already satisfied: numpy in /usr/local/lib/python3.12/dist-packages (from torchvision) (2.0.2)\n",
            "Requirement already satisfied: pillow!=8.3.*,>=5.3.0 in /usr/local/lib/python3.12/dist-packages (from torchvision) (11.3.0)\n",
            "Requirement already satisfied: contourpy>=1.0.1 in /usr/local/lib/python3.12/dist-packages (from matplotlib) (1.3.3)\n",
            "Requirement already satisfied: cycler>=0.10 in /usr/local/lib/python3.12/dist-packages (from matplotlib) (0.12.1)\n",
            "Requirement already satisfied: fonttools>=4.22.0 in /usr/local/lib/python3.12/dist-packages (from matplotlib) (4.59.2)\n",
            "Requirement already satisfied: kiwisolver>=1.3.1 in /usr/local/lib/python3.12/dist-packages (from matplotlib) (1.4.9)\n",
            "Requirement already satisfied: packaging>=20.0 in /usr/local/lib/python3.12/dist-packages (from matplotlib) (25.0)\n",
            "Requirement already satisfied: pyparsing>=2.3.1 in /usr/local/lib/python3.12/dist-packages (from matplotlib) (3.2.3)\n",
            "Requirement already satisfied: python-dateutil>=2.7 in /usr/local/lib/python3.12/dist-packages (from matplotlib) (2.9.0.post0)\n",
            "Requirement already satisfied: scipy>=1.6.0 in /usr/local/lib/python3.12/dist-packages (from scikit-learn) (1.16.1)\n",
            "Requirement already satisfied: joblib>=1.2.0 in /usr/local/lib/python3.12/dist-packages (from scikit-learn) (1.5.2)\n",
            "Requirement already satisfied: threadpoolctl>=3.1.0 in /usr/local/lib/python3.12/dist-packages (from scikit-learn) (3.6.0)\n",
            "Requirement already satisfied: bleach in /usr/local/lib/python3.12/dist-packages (from kaggle) (6.2.0)\n",
            "Requirement already satisfied: certifi>=14.05.14 in /usr/local/lib/python3.12/dist-packages (from kaggle) (2025.8.3)\n",
            "Requirement already satisfied: charset-normalizer in /usr/local/lib/python3.12/dist-packages (from kaggle) (3.4.3)\n",
            "Requirement already satisfied: idna in /usr/local/lib/python3.12/dist-packages (from kaggle) (3.10)\n",
            "Requirement already satisfied: protobuf in /usr/local/lib/python3.12/dist-packages (from kaggle) (5.29.5)\n",
            "Requirement already satisfied: python-slugify in /usr/local/lib/python3.12/dist-packages (from kaggle) (8.0.4)\n",
            "Requirement already satisfied: requests in /usr/local/lib/python3.12/dist-packages (from kaggle) (2.32.4)\n",
            "Requirement already satisfied: six>=1.10 in /usr/local/lib/python3.12/dist-packages (from kaggle) (1.17.0)\n",
            "Requirement already satisfied: text-unidecode in /usr/local/lib/python3.12/dist-packages (from kaggle) (1.3)\n",
            "Requirement already satisfied: tqdm in /usr/local/lib/python3.12/dist-packages (from kaggle) (4.67.1)\n",
            "Requirement already satisfied: urllib3>=1.15.1 in /usr/local/lib/python3.12/dist-packages (from kaggle) (2.5.0)\n",
            "Requirement already satisfied: webencodings in /usr/local/lib/python3.12/dist-packages (from kaggle) (0.5.1)\n",
            "Requirement already satisfied: ml_dtypes in /usr/local/lib/python3.12/dist-packages (from onnx) (0.5.3)\n",
            "Collecting coloredlogs (from onnxruntime)\n",
            "  Downloading coloredlogs-15.0.1-py2.py3-none-any.whl.metadata (12 kB)\n",
            "Requirement already satisfied: flatbuffers in /usr/local/lib/python3.12/dist-packages (from onnxruntime) (25.2.10)\n",
            "Requirement already satisfied: mpmath<1.4,>=1.1.0 in /usr/local/lib/python3.12/dist-packages (from sympy>=1.13.3->torch) (1.3.0)\n",
            "Collecting humanfriendly>=9.1 (from coloredlogs->onnxruntime)\n",
            "  Downloading humanfriendly-10.0-py2.py3-none-any.whl.metadata (9.2 kB)\n",
            "Requirement already satisfied: MarkupSafe>=2.0 in /usr/local/lib/python3.12/dist-packages (from jinja2->torch) (3.0.2)\n",
            "Downloading onnx-1.19.0-cp312-cp312-manylinux2014_x86_64.manylinux_2_17_x86_64.whl (18.2 MB)\n",
            "\u001b[2K   \u001b[90m━━━━━━━━━━━━━━━━━━━━━━━━━━━━━━━━━━━━━━━━\u001b[0m \u001b[32m18.2/18.2 MB\u001b[0m \u001b[31m80.3 MB/s\u001b[0m eta \u001b[36m0:00:00\u001b[0m\n",
            "\u001b[?25hDownloading onnxruntime-1.22.1-cp312-cp312-manylinux_2_27_x86_64.manylinux_2_28_x86_64.whl (16.5 MB)\n",
            "\u001b[2K   \u001b[90m━━━━━━━━━━━━━━━━━━━━━━━━━━━━━━━━━━━━━━━━\u001b[0m \u001b[32m16.5/16.5 MB\u001b[0m \u001b[31m67.6 MB/s\u001b[0m eta \u001b[36m0:00:00\u001b[0m\n",
            "\u001b[?25hDownloading coloredlogs-15.0.1-py2.py3-none-any.whl (46 kB)\n",
            "\u001b[2K   \u001b[90m━━━━━━━━━━━━━━━━━━━━━━━━━━━━━━━━━━━━━━━━\u001b[0m \u001b[32m46.0/46.0 kB\u001b[0m \u001b[31m4.3 MB/s\u001b[0m eta \u001b[36m0:00:00\u001b[0m\n",
            "\u001b[?25hDownloading humanfriendly-10.0-py2.py3-none-any.whl (86 kB)\n",
            "\u001b[2K   \u001b[90m━━━━━━━━━━━━━━━━━━━━━━━━━━━━━━━━━━━━━━━━\u001b[0m \u001b[32m86.8/86.8 kB\u001b[0m \u001b[31m8.1 MB/s\u001b[0m eta \u001b[36m0:00:00\u001b[0m\n",
            "\u001b[?25hInstalling collected packages: humanfriendly, onnx, coloredlogs, onnxruntime\n",
            "Successfully installed coloredlogs-15.0.1 humanfriendly-10.0 onnx-1.19.0 onnxruntime-1.22.1\n"
          ]
        }
      ],
      "source": [
        "!pip install torch torchvision opencv-python matplotlib scikit-learn kaggle onnx onnxruntime"
      ]
    },
    {
      "cell_type": "markdown",
      "source": [
        "# Obtaining the Data Set"
      ],
      "metadata": {
        "id": "TMaTn5NyFJHQ"
      }
    },
    {
      "cell_type": "code",
      "source": [
        "from google.colab import files\n",
        "# Upload kaggle.json file\n",
        "uploaded = files.upload()"
      ],
      "metadata": {
        "id": "hX04LJLXBU73",
        "colab": {
          "base_uri": "https://localhost:8080/",
          "height": 73
        },
        "outputId": "8c510592-bec3-48ca-e69d-a7e64c4af19a"
      },
      "execution_count": null,
      "outputs": [
        {
          "output_type": "display_data",
          "data": {
            "text/plain": [
              "<IPython.core.display.HTML object>"
            ],
            "text/html": [
              "\n",
              "     <input type=\"file\" id=\"files-5132f14e-ca77-4138-93f1-dbb141c89633\" name=\"files[]\" multiple disabled\n",
              "        style=\"border:none\" />\n",
              "     <output id=\"result-5132f14e-ca77-4138-93f1-dbb141c89633\">\n",
              "      Upload widget is only available when the cell has been executed in the\n",
              "      current browser session. Please rerun this cell to enable.\n",
              "      </output>\n",
              "      <script>// Copyright 2017 Google LLC\n",
              "//\n",
              "// Licensed under the Apache License, Version 2.0 (the \"License\");\n",
              "// you may not use this file except in compliance with the License.\n",
              "// You may obtain a copy of the License at\n",
              "//\n",
              "//      http://www.apache.org/licenses/LICENSE-2.0\n",
              "//\n",
              "// Unless required by applicable law or agreed to in writing, software\n",
              "// distributed under the License is distributed on an \"AS IS\" BASIS,\n",
              "// WITHOUT WARRANTIES OR CONDITIONS OF ANY KIND, either express or implied.\n",
              "// See the License for the specific language governing permissions and\n",
              "// limitations under the License.\n",
              "\n",
              "/**\n",
              " * @fileoverview Helpers for google.colab Python module.\n",
              " */\n",
              "(function(scope) {\n",
              "function span(text, styleAttributes = {}) {\n",
              "  const element = document.createElement('span');\n",
              "  element.textContent = text;\n",
              "  for (const key of Object.keys(styleAttributes)) {\n",
              "    element.style[key] = styleAttributes[key];\n",
              "  }\n",
              "  return element;\n",
              "}\n",
              "\n",
              "// Max number of bytes which will be uploaded at a time.\n",
              "const MAX_PAYLOAD_SIZE = 100 * 1024;\n",
              "\n",
              "function _uploadFiles(inputId, outputId) {\n",
              "  const steps = uploadFilesStep(inputId, outputId);\n",
              "  const outputElement = document.getElementById(outputId);\n",
              "  // Cache steps on the outputElement to make it available for the next call\n",
              "  // to uploadFilesContinue from Python.\n",
              "  outputElement.steps = steps;\n",
              "\n",
              "  return _uploadFilesContinue(outputId);\n",
              "}\n",
              "\n",
              "// This is roughly an async generator (not supported in the browser yet),\n",
              "// where there are multiple asynchronous steps and the Python side is going\n",
              "// to poll for completion of each step.\n",
              "// This uses a Promise to block the python side on completion of each step,\n",
              "// then passes the result of the previous step as the input to the next step.\n",
              "function _uploadFilesContinue(outputId) {\n",
              "  const outputElement = document.getElementById(outputId);\n",
              "  const steps = outputElement.steps;\n",
              "\n",
              "  const next = steps.next(outputElement.lastPromiseValue);\n",
              "  return Promise.resolve(next.value.promise).then((value) => {\n",
              "    // Cache the last promise value to make it available to the next\n",
              "    // step of the generator.\n",
              "    outputElement.lastPromiseValue = value;\n",
              "    return next.value.response;\n",
              "  });\n",
              "}\n",
              "\n",
              "/**\n",
              " * Generator function which is called between each async step of the upload\n",
              " * process.\n",
              " * @param {string} inputId Element ID of the input file picker element.\n",
              " * @param {string} outputId Element ID of the output display.\n",
              " * @return {!Iterable<!Object>} Iterable of next steps.\n",
              " */\n",
              "function* uploadFilesStep(inputId, outputId) {\n",
              "  const inputElement = document.getElementById(inputId);\n",
              "  inputElement.disabled = false;\n",
              "\n",
              "  const outputElement = document.getElementById(outputId);\n",
              "  outputElement.innerHTML = '';\n",
              "\n",
              "  const pickedPromise = new Promise((resolve) => {\n",
              "    inputElement.addEventListener('change', (e) => {\n",
              "      resolve(e.target.files);\n",
              "    });\n",
              "  });\n",
              "\n",
              "  const cancel = document.createElement('button');\n",
              "  inputElement.parentElement.appendChild(cancel);\n",
              "  cancel.textContent = 'Cancel upload';\n",
              "  const cancelPromise = new Promise((resolve) => {\n",
              "    cancel.onclick = () => {\n",
              "      resolve(null);\n",
              "    };\n",
              "  });\n",
              "\n",
              "  // Wait for the user to pick the files.\n",
              "  const files = yield {\n",
              "    promise: Promise.race([pickedPromise, cancelPromise]),\n",
              "    response: {\n",
              "      action: 'starting',\n",
              "    }\n",
              "  };\n",
              "\n",
              "  cancel.remove();\n",
              "\n",
              "  // Disable the input element since further picks are not allowed.\n",
              "  inputElement.disabled = true;\n",
              "\n",
              "  if (!files) {\n",
              "    return {\n",
              "      response: {\n",
              "        action: 'complete',\n",
              "      }\n",
              "    };\n",
              "  }\n",
              "\n",
              "  for (const file of files) {\n",
              "    const li = document.createElement('li');\n",
              "    li.append(span(file.name, {fontWeight: 'bold'}));\n",
              "    li.append(span(\n",
              "        `(${file.type || 'n/a'}) - ${file.size} bytes, ` +\n",
              "        `last modified: ${\n",
              "            file.lastModifiedDate ? file.lastModifiedDate.toLocaleDateString() :\n",
              "                                    'n/a'} - `));\n",
              "    const percent = span('0% done');\n",
              "    li.appendChild(percent);\n",
              "\n",
              "    outputElement.appendChild(li);\n",
              "\n",
              "    const fileDataPromise = new Promise((resolve) => {\n",
              "      const reader = new FileReader();\n",
              "      reader.onload = (e) => {\n",
              "        resolve(e.target.result);\n",
              "      };\n",
              "      reader.readAsArrayBuffer(file);\n",
              "    });\n",
              "    // Wait for the data to be ready.\n",
              "    let fileData = yield {\n",
              "      promise: fileDataPromise,\n",
              "      response: {\n",
              "        action: 'continue',\n",
              "      }\n",
              "    };\n",
              "\n",
              "    // Use a chunked sending to avoid message size limits. See b/62115660.\n",
              "    let position = 0;\n",
              "    do {\n",
              "      const length = Math.min(fileData.byteLength - position, MAX_PAYLOAD_SIZE);\n",
              "      const chunk = new Uint8Array(fileData, position, length);\n",
              "      position += length;\n",
              "\n",
              "      const base64 = btoa(String.fromCharCode.apply(null, chunk));\n",
              "      yield {\n",
              "        response: {\n",
              "          action: 'append',\n",
              "          file: file.name,\n",
              "          data: base64,\n",
              "        },\n",
              "      };\n",
              "\n",
              "      let percentDone = fileData.byteLength === 0 ?\n",
              "          100 :\n",
              "          Math.round((position / fileData.byteLength) * 100);\n",
              "      percent.textContent = `${percentDone}% done`;\n",
              "\n",
              "    } while (position < fileData.byteLength);\n",
              "  }\n",
              "\n",
              "  // All done.\n",
              "  yield {\n",
              "    response: {\n",
              "      action: 'complete',\n",
              "    }\n",
              "  };\n",
              "}\n",
              "\n",
              "scope.google = scope.google || {};\n",
              "scope.google.colab = scope.google.colab || {};\n",
              "scope.google.colab._files = {\n",
              "  _uploadFiles,\n",
              "  _uploadFilesContinue,\n",
              "};\n",
              "})(self);\n",
              "</script> "
            ]
          },
          "metadata": {}
        },
        {
          "output_type": "stream",
          "name": "stdout",
          "text": [
            "Saving kaggle.json to kaggle.json\n"
          ]
        }
      ]
    },
    {
      "cell_type": "code",
      "source": [
        "import shutil\n",
        "import os\n",
        "# Create hidden .kaggle folder\n",
        "os.makedirs(\"/root/.kaggle\", exist_ok=True)\n",
        "shutil.move(\"/content/kaggle.json\", \"/root/.kaggle/kaggle.json\")\n",
        "# Set permissions\n",
        "os.chmod(\"/root/.kaggle/kaggle.json\", 600)\n"
      ],
      "metadata": {
        "id": "PLdNj3RdD8bW"
      },
      "execution_count": null,
      "outputs": []
    },
    {
      "cell_type": "code",
      "source": [
        "# !kaggle datasets list -s fer2013\n",
        "!kaggle datasets list -s affectnet"
      ],
      "metadata": {
        "id": "h-VOvdqCEEd8",
        "colab": {
          "base_uri": "https://localhost:8080/"
        },
        "outputId": "29058c6a-f354-4a7c-ba21-0699af25eb2a",
        "collapsed": true
      },
      "execution_count": null,
      "outputs": [
        {
          "output_type": "stream",
          "name": "stdout",
          "text": [
            "ref                                                   title                                                      size  lastUpdated                 downloadCount  voteCount  usabilityRating  \n",
            "----------------------------------------------------  --------------------------------------------------  -----------  --------------------------  -------------  ---------  ---------------  \n",
            "vfomenko/young-affectnet-hq                           Young AffectNet HQ                                   5441294496  2022-10-16 10:10:01.090000           2422         34  0.8125           \n",
            "fatihkgg/affectnet-yolo-format                        Facial Expression Image Data AFFECTNET YOLO Format    270743903  2024-02-09 13:21:42.813000           5392         46  1.0              \n",
            "mstjebashazida/affectnet                              AffectNet                                             340172409  2024-08-13 12:13:54.143000           2772          8  0.29411766       \n",
            "sujaykapadnis/emotion-recognition-dataset             Facial Emotion Recognition Image Dataset             2126237709  2023-12-07 04:35:45.517000           8308         92  1.0              \n",
            "sarabhian/affectnet-helper                            affectnet_helper                                        6465377  2022-01-23 11:36:51.017000            318          9  0.9411765        \n",
            "yakhyokhuja/affectnetaligned                          AffectNet Aligned                                     261044140  2024-07-11 02:49:28.197000            393          5  0.5625           \n",
            "ngothienphu/affectnet                                 affectnet                                             250459600  2021-12-15 06:16:06.040000            722          2  0.125            \n",
            "nguyenchiminh/affectnet                               affectnet                                             261044140  2025-06-23 02:22:12.710000              6          0  0.1875           \n",
            "dollyprajapati182/balanced-affectnet                  Balanced Affectnet Dataset (75×75, RGB)               286504633  2025-04-30 08:43:43.963000            143          8  0.4375           \n",
            "geolek/grayscale-face-images                          Grayscale Face Images                                4991138175  2024-03-08 09:15:29.050000            613          7  0.625            \n",
            "kamran64/thesisaffectnetalignedlandmarks              Thesis-AffectNet-Aligned-Landmarks                    281483831  2022-06-06 11:06:05.960000             95          2  0.29411766       \n",
            "chups1509/affectnet                                   affectnet                                            1872910799  2025-03-16 13:49:45.737000            209          1  0.125            \n",
            "antruong2477/affectnet-dataset                        affectnet-dataset                                     233115347  2025-06-15 17:42:23.560000              8          0  0.4375           \n",
            "minhtmnguyntrn/affectnet-dataset                      affectnet_dataset                                    1872154685  2024-08-04 12:02:38.107000            145          1  0.25             \n",
            "minhtmnguyntrn/affectnet-new                          Affectnet_new                                       58094287869  2024-09-06 19:47:24.197000            198          1  0.1764706        \n",
            "tanzeekhan/affectnetfiltered                          AffectNetFiltered                                     295918159  2022-08-10 14:26:15.807000             68          2  0.3125           \n",
            "mahamedmahmoud/customized-facial-expressions-splited  Customized_Facial_Expressions_splited                 218406073  2025-01-25 15:28:33.147000             21          2  0.4375           \n",
            "linchihyi/affectnet123                                Affectnet123                                         1628361083  2024-07-09 12:31:35.443000              4          1  0.0625           \n",
            "eldarsharapov/preprocessed-affectnet                  Preprocessed AffectNet                                284119135  2025-04-21 17:37:56.040000             14          0  0.3125           \n",
            "shantanupandey1/affectnet-organised                   Affectnet-Organised                                   318962125  2024-10-14 16:57:20.310000             70          0  0.1875           \n"
          ]
        }
      ]
    },
    {
      "cell_type": "code",
      "source": [
        "!kaggle datasets download -d msambare/fer2013 -p /content\n",
        "!kaggle datasets download -d mstjebashazida/affectnet -p /content"
      ],
      "metadata": {
        "colab": {
          "base_uri": "https://localhost:8080/"
        },
        "id": "HrnLCEqsEv1h",
        "outputId": "13d41456-b977-4cc4-fc3a-5b1b401e5afc"
      },
      "execution_count": null,
      "outputs": [
        {
          "output_type": "stream",
          "name": "stdout",
          "text": [
            "Dataset URL: https://www.kaggle.com/datasets/msambare/fer2013\n",
            "License(s): DbCL-1.0\n",
            "Downloading fer2013.zip to /content\n",
            "  0% 0.00/60.3M [00:00<?, ?B/s]\n",
            "100% 60.3M/60.3M [00:00<00:00, 1.33GB/s]\n",
            "Dataset URL: https://www.kaggle.com/datasets/mstjebashazida/affectnet\n",
            "License(s): MIT\n",
            "Downloading affectnet.zip to /content\n",
            " 86% 279M/324M [00:00<00:00, 569MB/s]\n",
            "100% 324M/324M [00:00<00:00, 534MB/s]\n"
          ]
        }
      ]
    },
    {
      "cell_type": "code",
      "source": [
        "import zipfile\n",
        "\n",
        "# FER-2013\n",
        "fer_zip_path = \"/content/fer2013.zip\"\n",
        "fer_extract_dir = \"/content/fer2013\"\n",
        "with zipfile.ZipFile(fer_zip_path, 'r') as zip_ref:\n",
        "    zip_ref.extractall(fer_extract_dir)\n",
        "print(\"FER-2013 extracted to:\", fer_extract_dir)\n",
        "\n",
        "# AffectNet\n",
        "affect_zip_path = \"/content/affectnet.zip\"\n",
        "affect_extract_dir = \"/content/affectnet\"\n",
        "with zipfile.ZipFile(affect_zip_path, 'r') as zip_ref:\n",
        "    zip_ref.extractall(affect_extract_dir)\n",
        "print(\"AffectNet extracted to:\", affect_extract_dir)"
      ],
      "metadata": {
        "colab": {
          "base_uri": "https://localhost:8080/"
        },
        "id": "jCpxQViDE0uB",
        "outputId": "c19211c4-d01a-4984-af6f-c78d4cfe6482"
      },
      "execution_count": null,
      "outputs": [
        {
          "output_type": "stream",
          "name": "stdout",
          "text": [
            "FER-2013 extracted to: /content/fer2013\n",
            "AffectNet extracted to: /content/affectnet\n"
          ]
        }
      ]
    },
    {
      "cell_type": "code",
      "source": [
        "# Unified Labeling\n",
        "unified_label_map = {\n",
        "    \"angry\": \"negative\",\n",
        "    \"disgust\": \"negative\",\n",
        "    \"fear\": \"negative\",\n",
        "    \"sad\": \"negative\",\n",
        "    \"contempt\": \"negative\",\n",
        "    \"happy\": \"positive\",\n",
        "    \"surprise\": \"positive\",\n",
        "    \"neutral\": \"neutral\"\n",
        "}\n",
        "\n",
        "new_classes = [\"negative\", \"neutral\", \"positive\"]\n",
        "class_to_idx = {c: i for i, c in enumerate(new_classes)}"
      ],
      "metadata": {
        "id": "T3vBagdfxbU-"
      },
      "execution_count": null,
      "outputs": []
    },
    {
      "cell_type": "code",
      "source": [
        "# Custom DataSet Class\n",
        "import os\n",
        "from torch.utils.data import Dataset\n",
        "from PIL import Image\n",
        "\n",
        "class CustomFolderDataset(Dataset):\n",
        "    def __init__(self, root_dir, transform=None, label_map=unified_label_map):\n",
        "        self.root_dir = root_dir\n",
        "        self.transform = transform\n",
        "        self.label_map = label_map\n",
        "        self.samples = []\n",
        "\n",
        "        # run over folders\n",
        "        for folder_name in os.listdir(root_dir):\n",
        "            folder_path = os.path.join(root_dir, folder_name)\n",
        "            label_name = folder_name.lower()\n",
        "            if os.path.isdir(folder_path) and label_name in label_map:\n",
        "                for file_name in os.listdir(folder_path):\n",
        "                    if any(file_name.lower().endswith(ext) for ext in [\".jpg\", \".png\", \".jpeg\", \".tiff\"]):\n",
        "                        self.samples.append((os.path.join(folder_path, file_name), label_map[label_name]))\n",
        "\n",
        "    def __len__(self):\n",
        "        return len(self.samples)\n",
        "\n",
        "    def __getitem__(self, idx):\n",
        "        img_path, label_name = self.samples[idx]\n",
        "        img = Image.open(img_path).convert('RGB')\n",
        "        if self.transform:\n",
        "            img = self.transform(img)\n",
        "        label = class_to_idx[label_name]\n",
        "        return img, label\n"
      ],
      "metadata": {
        "id": "VLtZsPxfxjX0"
      },
      "execution_count": null,
      "outputs": []
    },
    {
      "cell_type": "code",
      "source": [
        "# Transform Filter for Images\n",
        "from torchvision import transforms\n",
        "\n",
        "transform = transforms.Compose([\n",
        "    transforms.Grayscale(num_output_channels=3),\n",
        "    transforms.Resize((224, 224)),\n",
        "    transforms.ToTensor(),\n",
        "    transforms.Normalize([0.485, 0.456, 0.406],\n",
        "                         [0.229, 0.224, 0.225])\n",
        "])\n"
      ],
      "metadata": {
        "id": "aeOWxt7Hxyo7"
      },
      "execution_count": null,
      "outputs": []
    },
    {
      "cell_type": "code",
      "source": [
        "# Completing Dataset\n",
        "from torch.utils.data import ConcatDataset, DataLoader\n",
        "\n",
        "# Paths\n",
        "fer_train_dir = \"/content/fer2013/train\"\n",
        "fer_test_dir = \"/content/fer2013/test\"\n",
        "affect_train_dir = \"/content/affectnet/archive/Train\"\n",
        "affect_test_dir = \"/content/affectnet/archive/Test\"\n",
        "\n",
        "# Datasets\n",
        "fer_train = CustomFolderDataset(fer_train_dir, transform=transform)\n",
        "fer_test = CustomFolderDataset(fer_test_dir, transform=transform)\n",
        "affect_train = CustomFolderDataset(affect_train_dir, transform=transform)\n",
        "affect_test = CustomFolderDataset(affect_test_dir, transform=transform)\n",
        "\n",
        "# Combine datasets\n",
        "train_dataset = ConcatDataset([fer_train, affect_train])\n",
        "test_dataset = ConcatDataset([fer_test, affect_test])\n",
        "\n",
        "print(\"Fer-2013 training images:\", len(fer_train))\n",
        "print(\"Fer-2013 test images:\", len(fer_test))\n",
        "\n",
        "print(\"AffectNet training images:\", len(affect_train))\n",
        "print(\"AffectNet test images:\", len(affect_test))\n",
        "\n",
        "print(\"Combined training images:\", len(train_dataset))\n",
        "print(\"Combined test images:\", len(test_dataset))\n"
      ],
      "metadata": {
        "colab": {
          "base_uri": "https://localhost:8080/"
        },
        "id": "QIfIGx-Xx5JV",
        "outputId": "a728dc70-dc51-4c83-ff04-084386aa1e2f"
      },
      "execution_count": null,
      "outputs": [
        {
          "output_type": "stream",
          "name": "stdout",
          "text": [
            "Fer-2013 training images: 28709\n",
            "Fer-2013 test images: 7178\n",
            "AffectNet training images: 14608\n",
            "AffectNet test images: 12800\n",
            "Combined training images: 43317\n",
            "Combined test images: 19978\n"
          ]
        }
      ]
    },
    {
      "cell_type": "code",
      "source": [
        "from torch.utils.data import DataLoader, random_split\n",
        "\n",
        "# Parameters\n",
        "batch_size = 32\n",
        "val_fraction = 0.1\n",
        "\n",
        "# Split combined training dataset into train data and val data which is not given for either data set\n",
        "num_train = len(train_dataset)\n",
        "num_val = int(val_fraction * num_train)\n",
        "num_train_actual = num_train - num_val\n",
        "\n",
        "train_subset, val_subset = random_split(train_dataset, [num_train_actual, num_val])\n",
        "\n",
        "# Create DataLoaders\n",
        "train_loader = DataLoader(train_subset, batch_size=batch_size, shuffle=True, num_workers=4)\n",
        "val_loader   = DataLoader(val_subset, batch_size=batch_size, shuffle=False, num_workers=4)\n",
        "test_loader  = DataLoader(test_dataset, batch_size=batch_size, shuffle=False, num_workers=4)\n",
        "\n",
        "# Quick check\n",
        "print(f\"Train batches: {len(train_loader)}, Val batches: {len(val_loader)}, Test batches: {len(test_loader)}\")\n"
      ],
      "metadata": {
        "colab": {
          "base_uri": "https://localhost:8080/"
        },
        "id": "s5Gd38JGDe0t",
        "outputId": "71bf3e1c-d353-48d9-8819-0271fe170512"
      },
      "execution_count": null,
      "outputs": [
        {
          "output_type": "stream",
          "name": "stdout",
          "text": [
            "Train batches: 1219, Val batches: 136, Test batches: 625\n"
          ]
        },
        {
          "output_type": "stream",
          "name": "stderr",
          "text": [
            "/usr/local/lib/python3.12/dist-packages/torch/utils/data/dataloader.py:627: UserWarning: This DataLoader will create 4 worker processes in total. Our suggested max number of worker in current system is 2, which is smaller than what this DataLoader is going to create. Please be aware that excessive worker creation might get DataLoader running slow or even freeze, lower the worker number to avoid potential slowness/freeze if necessary.\n",
            "  warnings.warn(\n"
          ]
        }
      ]
    },
    {
      "cell_type": "markdown",
      "source": [
        "# Obtaining the ResNet Model"
      ],
      "metadata": {
        "id": "RFOYN1TcE88F"
      }
    },
    {
      "cell_type": "markdown",
      "source": [
        "## Setting up ResNet"
      ],
      "metadata": {
        "id": "njGL2sSNGfdr"
      }
    },
    {
      "cell_type": "code",
      "source": [
        "import torch\n",
        "import torch.nn as nn\n",
        "from torchvision import models\n",
        "\n",
        "# Device\n",
        "device = torch.device(\"cuda\" if torch.cuda.is_available() else \"cpu\")\n",
        "\n",
        "# Load ResNet18\n",
        "# resnet = models.resnet18(pretrained=True)\n",
        "resnet = models.resnet18(weights=models.ResNet18_Weights.DEFAULT)\n",
        "\n",
        "# Freeze all layers first\n",
        "for param in resnet.parameters():\n",
        "    param.requires_grad = False\n",
        "\n",
        "# Unfreeze the last Layer 4 and FC layers\n",
        "for param in resnet.layer4.parameters():\n",
        "    param.requires_grad = True\n",
        "for param in resnet.fc.parameters():\n",
        "    param.requires_grad = True\n",
        "\n",
        "# Add classifications (negative, neutral, positive)\n",
        "num_classes = 3\n",
        "in_features = resnet.fc.in_features\n",
        "resnet.fc = nn.Linear(in_features, num_classes)\n",
        "\n",
        "# Move model to device\n",
        "resnet = resnet.to(device)\n",
        "\n",
        "# criterion and optimizer\n",
        "criterion = nn.CrossEntropyLoss()\n",
        "optimizer = torch.optim.Adam(filter(lambda p: p.requires_grad, resnet.parameters()), lr=1e-4)\n",
        "\n",
        "# Scheduler\n",
        "scheduler = torch.optim.lr_scheduler.ReduceLROnPlateau(\n",
        "    optimizer, mode='min', factor=0.5, patience=5\n",
        ")\n",
        "\n",
        "print(resnet)\n"
      ],
      "metadata": {
        "colab": {
          "base_uri": "https://localhost:8080/"
        },
        "id": "PI5iMpGxzqgb",
        "outputId": "b57edae5-c71d-48c2-fe01-aad32ae99285"
      },
      "execution_count": null,
      "outputs": [
        {
          "output_type": "stream",
          "name": "stdout",
          "text": [
            "Downloading: \"https://download.pytorch.org/models/resnet18-f37072fd.pth\" to /root/.cache/torch/hub/checkpoints/resnet18-f37072fd.pth\n"
          ]
        },
        {
          "output_type": "stream",
          "name": "stderr",
          "text": [
            "100%|██████████| 44.7M/44.7M [00:00<00:00, 165MB/s]\n"
          ]
        },
        {
          "output_type": "stream",
          "name": "stdout",
          "text": [
            "ResNet(\n",
            "  (conv1): Conv2d(3, 64, kernel_size=(7, 7), stride=(2, 2), padding=(3, 3), bias=False)\n",
            "  (bn1): BatchNorm2d(64, eps=1e-05, momentum=0.1, affine=True, track_running_stats=True)\n",
            "  (relu): ReLU(inplace=True)\n",
            "  (maxpool): MaxPool2d(kernel_size=3, stride=2, padding=1, dilation=1, ceil_mode=False)\n",
            "  (layer1): Sequential(\n",
            "    (0): BasicBlock(\n",
            "      (conv1): Conv2d(64, 64, kernel_size=(3, 3), stride=(1, 1), padding=(1, 1), bias=False)\n",
            "      (bn1): BatchNorm2d(64, eps=1e-05, momentum=0.1, affine=True, track_running_stats=True)\n",
            "      (relu): ReLU(inplace=True)\n",
            "      (conv2): Conv2d(64, 64, kernel_size=(3, 3), stride=(1, 1), padding=(1, 1), bias=False)\n",
            "      (bn2): BatchNorm2d(64, eps=1e-05, momentum=0.1, affine=True, track_running_stats=True)\n",
            "    )\n",
            "    (1): BasicBlock(\n",
            "      (conv1): Conv2d(64, 64, kernel_size=(3, 3), stride=(1, 1), padding=(1, 1), bias=False)\n",
            "      (bn1): BatchNorm2d(64, eps=1e-05, momentum=0.1, affine=True, track_running_stats=True)\n",
            "      (relu): ReLU(inplace=True)\n",
            "      (conv2): Conv2d(64, 64, kernel_size=(3, 3), stride=(1, 1), padding=(1, 1), bias=False)\n",
            "      (bn2): BatchNorm2d(64, eps=1e-05, momentum=0.1, affine=True, track_running_stats=True)\n",
            "    )\n",
            "  )\n",
            "  (layer2): Sequential(\n",
            "    (0): BasicBlock(\n",
            "      (conv1): Conv2d(64, 128, kernel_size=(3, 3), stride=(2, 2), padding=(1, 1), bias=False)\n",
            "      (bn1): BatchNorm2d(128, eps=1e-05, momentum=0.1, affine=True, track_running_stats=True)\n",
            "      (relu): ReLU(inplace=True)\n",
            "      (conv2): Conv2d(128, 128, kernel_size=(3, 3), stride=(1, 1), padding=(1, 1), bias=False)\n",
            "      (bn2): BatchNorm2d(128, eps=1e-05, momentum=0.1, affine=True, track_running_stats=True)\n",
            "      (downsample): Sequential(\n",
            "        (0): Conv2d(64, 128, kernel_size=(1, 1), stride=(2, 2), bias=False)\n",
            "        (1): BatchNorm2d(128, eps=1e-05, momentum=0.1, affine=True, track_running_stats=True)\n",
            "      )\n",
            "    )\n",
            "    (1): BasicBlock(\n",
            "      (conv1): Conv2d(128, 128, kernel_size=(3, 3), stride=(1, 1), padding=(1, 1), bias=False)\n",
            "      (bn1): BatchNorm2d(128, eps=1e-05, momentum=0.1, affine=True, track_running_stats=True)\n",
            "      (relu): ReLU(inplace=True)\n",
            "      (conv2): Conv2d(128, 128, kernel_size=(3, 3), stride=(1, 1), padding=(1, 1), bias=False)\n",
            "      (bn2): BatchNorm2d(128, eps=1e-05, momentum=0.1, affine=True, track_running_stats=True)\n",
            "    )\n",
            "  )\n",
            "  (layer3): Sequential(\n",
            "    (0): BasicBlock(\n",
            "      (conv1): Conv2d(128, 256, kernel_size=(3, 3), stride=(2, 2), padding=(1, 1), bias=False)\n",
            "      (bn1): BatchNorm2d(256, eps=1e-05, momentum=0.1, affine=True, track_running_stats=True)\n",
            "      (relu): ReLU(inplace=True)\n",
            "      (conv2): Conv2d(256, 256, kernel_size=(3, 3), stride=(1, 1), padding=(1, 1), bias=False)\n",
            "      (bn2): BatchNorm2d(256, eps=1e-05, momentum=0.1, affine=True, track_running_stats=True)\n",
            "      (downsample): Sequential(\n",
            "        (0): Conv2d(128, 256, kernel_size=(1, 1), stride=(2, 2), bias=False)\n",
            "        (1): BatchNorm2d(256, eps=1e-05, momentum=0.1, affine=True, track_running_stats=True)\n",
            "      )\n",
            "    )\n",
            "    (1): BasicBlock(\n",
            "      (conv1): Conv2d(256, 256, kernel_size=(3, 3), stride=(1, 1), padding=(1, 1), bias=False)\n",
            "      (bn1): BatchNorm2d(256, eps=1e-05, momentum=0.1, affine=True, track_running_stats=True)\n",
            "      (relu): ReLU(inplace=True)\n",
            "      (conv2): Conv2d(256, 256, kernel_size=(3, 3), stride=(1, 1), padding=(1, 1), bias=False)\n",
            "      (bn2): BatchNorm2d(256, eps=1e-05, momentum=0.1, affine=True, track_running_stats=True)\n",
            "    )\n",
            "  )\n",
            "  (layer4): Sequential(\n",
            "    (0): BasicBlock(\n",
            "      (conv1): Conv2d(256, 512, kernel_size=(3, 3), stride=(2, 2), padding=(1, 1), bias=False)\n",
            "      (bn1): BatchNorm2d(512, eps=1e-05, momentum=0.1, affine=True, track_running_stats=True)\n",
            "      (relu): ReLU(inplace=True)\n",
            "      (conv2): Conv2d(512, 512, kernel_size=(3, 3), stride=(1, 1), padding=(1, 1), bias=False)\n",
            "      (bn2): BatchNorm2d(512, eps=1e-05, momentum=0.1, affine=True, track_running_stats=True)\n",
            "      (downsample): Sequential(\n",
            "        (0): Conv2d(256, 512, kernel_size=(1, 1), stride=(2, 2), bias=False)\n",
            "        (1): BatchNorm2d(512, eps=1e-05, momentum=0.1, affine=True, track_running_stats=True)\n",
            "      )\n",
            "    )\n",
            "    (1): BasicBlock(\n",
            "      (conv1): Conv2d(512, 512, kernel_size=(3, 3), stride=(1, 1), padding=(1, 1), bias=False)\n",
            "      (bn1): BatchNorm2d(512, eps=1e-05, momentum=0.1, affine=True, track_running_stats=True)\n",
            "      (relu): ReLU(inplace=True)\n",
            "      (conv2): Conv2d(512, 512, kernel_size=(3, 3), stride=(1, 1), padding=(1, 1), bias=False)\n",
            "      (bn2): BatchNorm2d(512, eps=1e-05, momentum=0.1, affine=True, track_running_stats=True)\n",
            "    )\n",
            "  )\n",
            "  (avgpool): AdaptiveAvgPool2d(output_size=(1, 1))\n",
            "  (fc): Linear(in_features=512, out_features=3, bias=True)\n",
            ")\n"
          ]
        }
      ]
    },
    {
      "cell_type": "markdown",
      "source": [
        "# Utility Functions"
      ],
      "metadata": {
        "id": "vPcnr68lEITJ"
      }
    },
    {
      "cell_type": "markdown",
      "source": [
        "## Train Model Function"
      ],
      "metadata": {
        "id": "U13w9u87EKz0"
      }
    },
    {
      "cell_type": "code",
      "source": [
        "# Train Model function which takes all loaders into account\n",
        "import torch\n",
        "import torch.nn as nn\n",
        "from torch.cuda.amp import GradScaler, autocast\n",
        "from tqdm import tqdm\n",
        "from google.colab import files\n",
        "\n",
        "def train_model(\n",
        "    model,\n",
        "    train_loader,\n",
        "    val_loader,\n",
        "    test_loader,\n",
        "    criterion,\n",
        "    optimizer,\n",
        "    device,\n",
        "    num_epochs=200,\n",
        "    patience=15,\n",
        "    scheduler=None,\n",
        "    checkpoint_path=\"checkpoint.pth\",\n",
        "    best_model_path=\"best_model.pth\"\n",
        "):\n",
        "\n",
        "    scaler = GradScaler()\n",
        "    best_val_acc = 0.0\n",
        "    epochs_no_improve = 0\n",
        "\n",
        "    # For graph\n",
        "    train_losses, val_losses = [], []\n",
        "    train_accs, val_accs = [], []\n",
        "\n",
        "    for epoch in range(num_epochs):\n",
        "        # Training Phase\n",
        "        model.train()\n",
        "        running_loss, correct, total = 0.0, 0, 0\n",
        "        train_progress = tqdm(train_loader, desc=f\"Epoch {epoch+1}/{num_epochs} [Training]\")\n",
        "\n",
        "        for images, labels in train_progress:\n",
        "            images, labels = images.to(device), labels.to(device)\n",
        "            optimizer.zero_grad()\n",
        "\n",
        "            with autocast():\n",
        "                outputs = model(images)\n",
        "                loss = criterion(outputs, labels)\n",
        "\n",
        "            if torch.isnan(loss):\n",
        "                print(\"NaN detected. Skipping batch.\")\n",
        "                continue\n",
        "\n",
        "            scaler.scale(loss).backward()\n",
        "            scaler.step(optimizer)\n",
        "            scaler.update()\n",
        "\n",
        "            running_loss += loss.item() * images.size(0)\n",
        "            _, predicted = torch.max(outputs, 1)\n",
        "            correct += (predicted == labels).sum().item()\n",
        "            total += labels.size(0)\n",
        "\n",
        "            train_progress.set_postfix({'batch_loss': loss.item()})\n",
        "\n",
        "        epoch_train_loss = running_loss / total\n",
        "        epoch_train_acc = correct / total\n",
        "        train_losses.append(epoch_train_loss)\n",
        "        train_accs.append(epoch_train_acc)\n",
        "\n",
        "\n",
        "        # Validation Phase\n",
        "        model.eval()\n",
        "        val_loss, val_correct, val_total = 0.0, 0, 0\n",
        "\n",
        "        with torch.no_grad():\n",
        "            val_progress = tqdm(val_loader, desc=f\"Epoch {epoch+1}/{num_epochs} [Validation]\")\n",
        "            for images, labels in val_progress:\n",
        "                images, labels = images.to(device), labels.to(device)\n",
        "                outputs = model(images)\n",
        "                loss = criterion(outputs, labels)\n",
        "\n",
        "                val_loss += loss.item() * images.size(0)\n",
        "                _, predicted = torch.max(outputs, 1)\n",
        "                val_correct += (predicted == labels).sum().item()\n",
        "                val_total += labels.size(0)\n",
        "\n",
        "                val_progress.set_postfix({'batch_loss': loss.item()})\n",
        "\n",
        "        epoch_val_loss = val_loss / val_total\n",
        "        epoch_val_acc = val_correct / val_total\n",
        "        val_losses.append(epoch_val_loss)\n",
        "        val_accs.append(epoch_val_acc)\n",
        "\n",
        "        print(f\"Epoch [{epoch+1}/{num_epochs}] \"\n",
        "              f\"Train Loss: {epoch_train_loss:.4f}, Train Acc: {epoch_train_acc:.4f}, \"\n",
        "              f\"Val Loss: {epoch_val_loss:.4f}, Val Acc: {epoch_val_acc:.4f}\")\n",
        "\n",
        "        # Scheduler Step\n",
        "        if scheduler is not None:\n",
        "            scheduler.step(epoch_val_loss)  # for ReduceLROnPlateau\n",
        "\n",
        "        # Saving the Checkpoint\n",
        "        checkpoint = {\n",
        "            \"epoch\": epoch + 1,\n",
        "            \"model_state_dict\": model.state_dict(),\n",
        "            \"optimizer_state_dict\": optimizer.state_dict(),\n",
        "            \"scheduler_state_dict\": scheduler.state_dict() if scheduler else None,\n",
        "            \"best_val_acc\": best_val_acc,\n",
        "            \"train_losses\": train_losses,\n",
        "            \"train_accs\": train_accs,\n",
        "            \"val_losses\": val_losses,\n",
        "            \"val_accs\": val_accs\n",
        "        }\n",
        "        torch.save(checkpoint, checkpoint_path)\n",
        "\n",
        "        # Best Model & Early Stopping\n",
        "        if epoch_val_acc > best_val_acc:\n",
        "            best_val_acc = epoch_val_acc\n",
        "            epochs_no_improve = 0\n",
        "            torch.save(model.state_dict(), best_model_path)\n",
        "            print(f\"New best model saved with Val Acc: {best_val_acc:.4f}\")\n",
        "        else:\n",
        "            epochs_no_improve += 1\n",
        "            if epochs_no_improve >= patience:\n",
        "                print(f\"Early stopping triggered at epoch {epoch+1}\")\n",
        "                break\n",
        "\n",
        "    # Test Evaluation\n",
        "    model.eval()\n",
        "    test_correct, test_total = 0, 0\n",
        "    with torch.no_grad():\n",
        "        for images, labels in test_loader:\n",
        "            images, labels = images.to(device), labels.to(device)\n",
        "            outputs = model(images)\n",
        "            _, predicted = torch.max(outputs, 1)\n",
        "            test_correct += (predicted == labels).sum().item()\n",
        "            test_total += labels.size(0)\n",
        "\n",
        "    test_acc = test_correct / test_total\n",
        "    print(f\"Final Test Accuracy: {test_acc:.4f}\")\n",
        "\n",
        "    return {\n",
        "        \"model\": model,\n",
        "        \"train_losses\": train_losses,\n",
        "        \"train_accs\": train_accs,\n",
        "        \"val_losses\": val_losses,\n",
        "        \"val_accs\": val_accs,\n",
        "        \"test_acc\": test_acc\n",
        "    }\n"
      ],
      "metadata": {
        "id": "3cRxkoqJEC-C"
      },
      "execution_count": null,
      "outputs": []
    },
    {
      "cell_type": "markdown",
      "source": [
        "## Evaluate Model Function"
      ],
      "metadata": {
        "id": "Rs_jMdPNEO87"
      }
    },
    {
      "cell_type": "code",
      "source": [
        "from sklearn.metrics import classification_report, confusion_matrix, accuracy_score\n",
        "import seaborn as sns\n",
        "import matplotlib.pyplot as plt\n",
        "import torch\n",
        "import pandas as pd\n",
        "\n",
        "def evaluate_model(model, dataloader, class_names, device, plot=True):\n",
        "    model.eval()\n",
        "    all_labels, all_preds = [], []\n",
        "\n",
        "    with torch.no_grad():\n",
        "        for images, labels in dataloader:\n",
        "            images, labels = images.to(device), labels.to(device)\n",
        "            outputs = model(images)\n",
        "            _, predicted = torch.max(outputs, 1)\n",
        "\n",
        "            all_labels.extend(labels.cpu().numpy())\n",
        "            all_preds.extend(predicted.cpu().numpy())\n",
        "\n",
        "    # Metrics\n",
        "    acc = accuracy_score(all_labels, all_preds)\n",
        "    report_dict = classification_report(all_labels, all_preds, target_names=class_names, output_dict=True)\n",
        "    report_df = pd.DataFrame(report_dict).transpose()  # tabular form\n",
        "    cm = confusion_matrix(all_labels, all_preds)\n",
        "\n",
        "    if plot:\n",
        "        # Raw matrix\n",
        "        plt.figure(figsize=(6,5))\n",
        "        sns.heatmap(cm, annot=True, fmt=\"d\", cmap=\"Blues\",\n",
        "                    xticklabels=class_names,\n",
        "                    yticklabels=class_names)\n",
        "        plt.xlabel(\"Predicted\")\n",
        "        plt.ylabel(\"True\")\n",
        "        plt.title(\"Confusion Matrix (Raw)\")\n",
        "        plt.show()\n",
        "\n",
        "        # Normalized matrix\n",
        "        cm_normalized = confusion_matrix(all_labels, all_preds, normalize=\"true\")\n",
        "        plt.figure(figsize=(6,5))\n",
        "        sns.heatmap(cm_normalized, annot=True, fmt=\".2f\", cmap=\"Blues\",\n",
        "                    xticklabels=class_names,\n",
        "                    yticklabels=class_names)\n",
        "        plt.xlabel(\"Predicted\")\n",
        "        plt.ylabel(\"True\")\n",
        "        plt.title(\"Normalized Confusion Matrix\")\n",
        "        plt.show()\n",
        "\n",
        "    print(\"\\nClassification Report:\\n\")\n",
        "    print(report_df)\n",
        "\n",
        "    return {\n",
        "        \"accuracy\": acc,\n",
        "        \"classification_report\": report_df,  # DataFrame for tabular display\n",
        "        \"confusion_matrix\": cm,\n",
        "        \"labels\": all_labels,\n",
        "        \"preds\": all_preds\n",
        "    }"
      ],
      "metadata": {
        "id": "gar7Tvv8a7XQ"
      },
      "execution_count": null,
      "outputs": []
    },
    {
      "cell_type": "markdown",
      "source": [
        "# Training the ResNet Model"
      ],
      "metadata": {
        "id": "PJAQFAiKGvuU"
      }
    },
    {
      "cell_type": "code",
      "source": [
        "history = train_model(\n",
        "    model=resnet,\n",
        "    train_loader=train_loader,\n",
        "    val_loader=val_loader,\n",
        "    test_loader=test_loader,\n",
        "    criterion=criterion,\n",
        "    optimizer=optimizer,\n",
        "    device=device,\n",
        "    num_epochs=200,\n",
        "    patience=15,\n",
        "    scheduler=scheduler\n",
        ")"
      ],
      "metadata": {
        "colab": {
          "base_uri": "https://localhost:8080/"
        },
        "id": "-fCyzIuAE0XT",
        "outputId": "d2213667-254d-425d-afcd-38a31fbdd06b"
      },
      "execution_count": null,
      "outputs": [
        {
          "output_type": "stream",
          "name": "stderr",
          "text": [
            "/tmp/ipython-input-1578106031.py:151: FutureWarning: `torch.cuda.amp.GradScaler(args...)` is deprecated. Please use `torch.amp.GradScaler('cuda', args...)` instead.\n",
            "  scaler = GradScaler()\n",
            "Epoch 1/200 [Training]:   0%|          | 0/1219 [00:00<?, ?it/s]/usr/local/lib/python3.12/dist-packages/torch/utils/data/dataloader.py:627: UserWarning: This DataLoader will create 4 worker processes in total. Our suggested max number of worker in current system is 2, which is smaller than what this DataLoader is going to create. Please be aware that excessive worker creation might get DataLoader running slow or even freeze, lower the worker number to avoid potential slowness/freeze if necessary.\n",
            "  warnings.warn(\n",
            "/tmp/ipython-input-1578106031.py:171: FutureWarning: `torch.cuda.amp.autocast(args...)` is deprecated. Please use `torch.amp.autocast('cuda', args...)` instead.\n",
            "  with autocast():\n",
            "Epoch 1/200 [Training]: 100%|██████████| 1219/1219 [01:28<00:00, 13.76it/s, batch_loss=0.173]\n",
            "Epoch 1/200 [Validation]: 100%|██████████| 136/136 [00:10<00:00, 12.64it/s, batch_loss=0.696]\n"
          ]
        },
        {
          "output_type": "stream",
          "name": "stdout",
          "text": [
            "Epoch [1/200] Train Loss: 0.4110, Train Acc: 0.8335, Val Loss: 0.5251, Val Acc: 0.7906\n",
            "New best model saved with Val Acc: 0.7906\n"
          ]
        },
        {
          "output_type": "stream",
          "name": "stderr",
          "text": [
            "Epoch 2/200 [Training]: 100%|██████████| 1219/1219 [01:29<00:00, 13.58it/s, batch_loss=0.105]\n",
            "Epoch 2/200 [Validation]: 100%|██████████| 136/136 [00:09<00:00, 14.60it/s, batch_loss=0.433]\n"
          ]
        },
        {
          "output_type": "stream",
          "name": "stdout",
          "text": [
            "Epoch [2/200] Train Loss: 0.2117, Train Acc: 0.9206, Val Loss: 0.6287, Val Acc: 0.7807\n"
          ]
        },
        {
          "output_type": "stream",
          "name": "stderr",
          "text": [
            "Epoch 3/200 [Training]: 100%|██████████| 1219/1219 [01:29<00:00, 13.60it/s, batch_loss=0.386]\n",
            "Epoch 3/200 [Validation]: 100%|██████████| 136/136 [00:10<00:00, 12.90it/s, batch_loss=1.8]\n"
          ]
        },
        {
          "output_type": "stream",
          "name": "stdout",
          "text": [
            "Epoch [3/200] Train Loss: 0.0974, Train Acc: 0.9660, Val Loss: 0.8811, Val Acc: 0.7555\n"
          ]
        },
        {
          "output_type": "stream",
          "name": "stderr",
          "text": [
            "Epoch 4/200 [Training]: 100%|██████████| 1219/1219 [01:32<00:00, 13.12it/s, batch_loss=0.234]\n",
            "Epoch 4/200 [Validation]: 100%|██████████| 136/136 [00:12<00:00, 10.74it/s, batch_loss=0.865]\n"
          ]
        },
        {
          "output_type": "stream",
          "name": "stdout",
          "text": [
            "Epoch [4/200] Train Loss: 0.0772, Train Acc: 0.9739, Val Loss: 0.8689, Val Acc: 0.7850\n"
          ]
        },
        {
          "output_type": "stream",
          "name": "stderr",
          "text": [
            "Epoch 5/200 [Training]: 100%|██████████| 1219/1219 [01:29<00:00, 13.60it/s, batch_loss=0.045]\n",
            "Epoch 5/200 [Validation]: 100%|██████████| 136/136 [00:10<00:00, 12.91it/s, batch_loss=2.91]\n"
          ]
        },
        {
          "output_type": "stream",
          "name": "stdout",
          "text": [
            "Epoch [5/200] Train Loss: 0.0611, Train Acc: 0.9796, Val Loss: 0.9621, Val Acc: 0.7876\n"
          ]
        },
        {
          "output_type": "stream",
          "name": "stderr",
          "text": [
            "Epoch 6/200 [Training]: 100%|██████████| 1219/1219 [01:27<00:00, 13.91it/s, batch_loss=0.0121]\n",
            "Epoch 6/200 [Validation]: 100%|██████████| 136/136 [00:09<00:00, 13.71it/s, batch_loss=0.987]\n"
          ]
        },
        {
          "output_type": "stream",
          "name": "stdout",
          "text": [
            "Epoch [6/200] Train Loss: 0.0533, Train Acc: 0.9808, Val Loss: 0.9615, Val Acc: 0.7906\n"
          ]
        },
        {
          "output_type": "stream",
          "name": "stderr",
          "text": [
            "Epoch 7/200 [Training]: 100%|██████████| 1219/1219 [01:28<00:00, 13.80it/s, batch_loss=0.144]\n",
            "Epoch 7/200 [Validation]: 100%|██████████| 136/136 [00:09<00:00, 13.96it/s, batch_loss=1.54]\n"
          ]
        },
        {
          "output_type": "stream",
          "name": "stdout",
          "text": [
            "Epoch [7/200] Train Loss: 0.0253, Train Acc: 0.9917, Val Loss: 0.9554, Val Acc: 0.8000\n",
            "New best model saved with Val Acc: 0.8000\n"
          ]
        },
        {
          "output_type": "stream",
          "name": "stderr",
          "text": [
            "Epoch 8/200 [Training]: 100%|██████████| 1219/1219 [01:27<00:00, 13.91it/s, batch_loss=0.00143]\n",
            "Epoch 8/200 [Validation]: 100%|██████████| 136/136 [00:10<00:00, 13.06it/s, batch_loss=1.14]\n"
          ]
        },
        {
          "output_type": "stream",
          "name": "stdout",
          "text": [
            "Epoch [8/200] Train Loss: 0.0160, Train Acc: 0.9946, Val Loss: 0.9791, Val Acc: 0.8000\n"
          ]
        },
        {
          "output_type": "stream",
          "name": "stderr",
          "text": [
            "Epoch 9/200 [Training]: 100%|██████████| 1219/1219 [01:28<00:00, 13.84it/s, batch_loss=0.29]\n",
            "Epoch 9/200 [Validation]: 100%|██████████| 136/136 [00:09<00:00, 14.74it/s, batch_loss=1.05]\n"
          ]
        },
        {
          "output_type": "stream",
          "name": "stdout",
          "text": [
            "Epoch [9/200] Train Loss: 0.0142, Train Acc: 0.9956, Val Loss: 1.0877, Val Acc: 0.7940\n"
          ]
        },
        {
          "output_type": "stream",
          "name": "stderr",
          "text": [
            "Epoch 10/200 [Training]: 100%|██████████| 1219/1219 [01:28<00:00, 13.77it/s, batch_loss=0.0152]\n",
            "Epoch 10/200 [Validation]: 100%|██████████| 136/136 [00:10<00:00, 13.20it/s, batch_loss=0.953]\n"
          ]
        },
        {
          "output_type": "stream",
          "name": "stdout",
          "text": [
            "Epoch [10/200] Train Loss: 0.0160, Train Acc: 0.9948, Val Loss: 1.0796, Val Acc: 0.7987\n"
          ]
        },
        {
          "output_type": "stream",
          "name": "stderr",
          "text": [
            "Epoch 11/200 [Training]: 100%|██████████| 1219/1219 [01:32<00:00, 13.22it/s, batch_loss=0.00179]\n",
            "Epoch 11/200 [Validation]: 100%|██████████| 136/136 [00:10<00:00, 13.06it/s, batch_loss=1.71]\n"
          ]
        },
        {
          "output_type": "stream",
          "name": "stdout",
          "text": [
            "Epoch [11/200] Train Loss: 0.0138, Train Acc: 0.9954, Val Loss: 1.1408, Val Acc: 0.7961\n"
          ]
        },
        {
          "output_type": "stream",
          "name": "stderr",
          "text": [
            "Epoch 12/200 [Training]: 100%|██████████| 1219/1219 [01:27<00:00, 13.93it/s, batch_loss=0.00464]\n",
            "Epoch 12/200 [Validation]: 100%|██████████| 136/136 [00:09<00:00, 13.87it/s, batch_loss=1.06]\n"
          ]
        },
        {
          "output_type": "stream",
          "name": "stdout",
          "text": [
            "Epoch [12/200] Train Loss: 0.0141, Train Acc: 0.9949, Val Loss: 1.1266, Val Acc: 0.7954\n"
          ]
        },
        {
          "output_type": "stream",
          "name": "stderr",
          "text": [
            "Epoch 13/200 [Training]: 100%|██████████| 1219/1219 [01:26<00:00, 14.11it/s, batch_loss=0.00439]\n",
            "Epoch 13/200 [Validation]: 100%|██████████| 136/136 [00:10<00:00, 13.47it/s, batch_loss=1.43]\n"
          ]
        },
        {
          "output_type": "stream",
          "name": "stdout",
          "text": [
            "Epoch [13/200] Train Loss: 0.0086, Train Acc: 0.9968, Val Loss: 1.1198, Val Acc: 0.8037\n",
            "New best model saved with Val Acc: 0.8037\n"
          ]
        },
        {
          "output_type": "stream",
          "name": "stderr",
          "text": [
            "Epoch 14/200 [Training]: 100%|██████████| 1219/1219 [01:27<00:00, 13.89it/s, batch_loss=0.000389]\n",
            "Epoch 14/200 [Validation]: 100%|██████████| 136/136 [00:09<00:00, 13.81it/s, batch_loss=1.14]\n"
          ]
        },
        {
          "output_type": "stream",
          "name": "stdout",
          "text": [
            "Epoch [14/200] Train Loss: 0.0057, Train Acc: 0.9977, Val Loss: 1.1234, Val Acc: 0.8019\n"
          ]
        },
        {
          "output_type": "stream",
          "name": "stderr",
          "text": [
            "Epoch 15/200 [Training]: 100%|██████████| 1219/1219 [01:27<00:00, 13.87it/s, batch_loss=1.25]\n",
            "Epoch 15/200 [Validation]: 100%|██████████| 136/136 [00:09<00:00, 13.96it/s, batch_loss=1.3]\n"
          ]
        },
        {
          "output_type": "stream",
          "name": "stdout",
          "text": [
            "Epoch [15/200] Train Loss: 0.0061, Train Acc: 0.9976, Val Loss: 1.1757, Val Acc: 0.8035\n"
          ]
        },
        {
          "output_type": "stream",
          "name": "stderr",
          "text": [
            "Epoch 16/200 [Training]: 100%|██████████| 1219/1219 [01:28<00:00, 13.77it/s, batch_loss=0.000635]\n",
            "Epoch 16/200 [Validation]: 100%|██████████| 136/136 [00:10<00:00, 13.22it/s, batch_loss=1.27]\n"
          ]
        },
        {
          "output_type": "stream",
          "name": "stdout",
          "text": [
            "Epoch [16/200] Train Loss: 0.0053, Train Acc: 0.9980, Val Loss: 1.1907, Val Acc: 0.7998\n"
          ]
        },
        {
          "output_type": "stream",
          "name": "stderr",
          "text": [
            "Epoch 17/200 [Training]: 100%|██████████| 1219/1219 [01:28<00:00, 13.75it/s, batch_loss=0.000762]\n",
            "Epoch 17/200 [Validation]: 100%|██████████| 136/136 [00:09<00:00, 13.92it/s, batch_loss=1.45]\n"
          ]
        },
        {
          "output_type": "stream",
          "name": "stdout",
          "text": [
            "Epoch [17/200] Train Loss: 0.0060, Train Acc: 0.9975, Val Loss: 1.2200, Val Acc: 0.7996\n"
          ]
        },
        {
          "output_type": "stream",
          "name": "stderr",
          "text": [
            "Epoch 18/200 [Training]: 100%|██████████| 1219/1219 [01:26<00:00, 14.08it/s, batch_loss=0.0337]\n",
            "Epoch 18/200 [Validation]: 100%|██████████| 136/136 [00:10<00:00, 13.49it/s, batch_loss=1.25]\n"
          ]
        },
        {
          "output_type": "stream",
          "name": "stdout",
          "text": [
            "Epoch [18/200] Train Loss: 0.0056, Train Acc: 0.9979, Val Loss: 1.1684, Val Acc: 0.8010\n"
          ]
        },
        {
          "output_type": "stream",
          "name": "stderr",
          "text": [
            "Epoch 19/200 [Training]: 100%|██████████| 1219/1219 [01:32<00:00, 13.12it/s, batch_loss=0.00166]\n",
            "Epoch 19/200 [Validation]: 100%|██████████| 136/136 [00:10<00:00, 13.10it/s, batch_loss=0.925]\n"
          ]
        },
        {
          "output_type": "stream",
          "name": "stdout",
          "text": [
            "Epoch [19/200] Train Loss: 0.0034, Train Acc: 0.9986, Val Loss: 1.1677, Val Acc: 0.8044\n",
            "New best model saved with Val Acc: 0.8044\n"
          ]
        },
        {
          "output_type": "stream",
          "name": "stderr",
          "text": [
            "Epoch 20/200 [Training]: 100%|██████████| 1219/1219 [01:30<00:00, 13.42it/s, batch_loss=0.00214]\n",
            "Epoch 20/200 [Validation]: 100%|██████████| 136/136 [00:09<00:00, 13.88it/s, batch_loss=1.16]\n"
          ]
        },
        {
          "output_type": "stream",
          "name": "stdout",
          "text": [
            "Epoch [20/200] Train Loss: 0.0027, Train Acc: 0.9988, Val Loss: 1.2182, Val Acc: 0.8033\n"
          ]
        },
        {
          "output_type": "stream",
          "name": "stderr",
          "text": [
            "Epoch 21/200 [Training]: 100%|██████████| 1219/1219 [01:26<00:00, 14.10it/s, batch_loss=0.000215]\n",
            "Epoch 21/200 [Validation]: 100%|██████████| 136/136 [00:09<00:00, 14.38it/s, batch_loss=1.25]\n"
          ]
        },
        {
          "output_type": "stream",
          "name": "stdout",
          "text": [
            "Epoch [21/200] Train Loss: 0.0030, Train Acc: 0.9986, Val Loss: 1.1994, Val Acc: 0.8065\n",
            "New best model saved with Val Acc: 0.8065\n"
          ]
        },
        {
          "output_type": "stream",
          "name": "stderr",
          "text": [
            "Epoch 22/200 [Training]: 100%|██████████| 1219/1219 [01:26<00:00, 14.03it/s, batch_loss=0.75]\n",
            "Epoch 22/200 [Validation]: 100%|██████████| 136/136 [00:10<00:00, 13.36it/s, batch_loss=1.33]\n"
          ]
        },
        {
          "output_type": "stream",
          "name": "stdout",
          "text": [
            "Epoch [22/200] Train Loss: 0.0031, Train Acc: 0.9985, Val Loss: 1.2468, Val Acc: 0.8058\n"
          ]
        },
        {
          "output_type": "stream",
          "name": "stderr",
          "text": [
            "Epoch 23/200 [Training]: 100%|██████████| 1219/1219 [01:29<00:00, 13.63it/s, batch_loss=0.119]\n",
            "Epoch 23/200 [Validation]: 100%|██████████| 136/136 [00:10<00:00, 13.10it/s, batch_loss=1.13]\n"
          ]
        },
        {
          "output_type": "stream",
          "name": "stdout",
          "text": [
            "Epoch [23/200] Train Loss: 0.0028, Train Acc: 0.9985, Val Loss: 1.2224, Val Acc: 0.8021\n"
          ]
        },
        {
          "output_type": "stream",
          "name": "stderr",
          "text": [
            "Epoch 24/200 [Training]: 100%|██████████| 1219/1219 [01:27<00:00, 13.91it/s, batch_loss=0.117]\n",
            "Epoch 24/200 [Validation]: 100%|██████████| 136/136 [00:09<00:00, 13.89it/s, batch_loss=1.17]\n"
          ]
        },
        {
          "output_type": "stream",
          "name": "stdout",
          "text": [
            "Epoch [24/200] Train Loss: 0.0024, Train Acc: 0.9989, Val Loss: 1.2745, Val Acc: 0.8012\n"
          ]
        },
        {
          "output_type": "stream",
          "name": "stderr",
          "text": [
            "Epoch 25/200 [Training]: 100%|██████████| 1219/1219 [01:28<00:00, 13.83it/s, batch_loss=0.000544]\n",
            "Epoch 25/200 [Validation]: 100%|██████████| 136/136 [00:09<00:00, 13.63it/s, batch_loss=1.88]\n"
          ]
        },
        {
          "output_type": "stream",
          "name": "stdout",
          "text": [
            "Epoch [25/200] Train Loss: 0.0024, Train Acc: 0.9988, Val Loss: 1.2891, Val Acc: 0.8100\n",
            "New best model saved with Val Acc: 0.8100\n"
          ]
        },
        {
          "output_type": "stream",
          "name": "stderr",
          "text": [
            "Epoch 26/200 [Training]: 100%|██████████| 1219/1219 [01:27<00:00, 13.97it/s, batch_loss=0.00861]\n",
            "Epoch 26/200 [Validation]: 100%|██████████| 136/136 [00:09<00:00, 14.70it/s, batch_loss=1.55]\n"
          ]
        },
        {
          "output_type": "stream",
          "name": "stdout",
          "text": [
            "Epoch [26/200] Train Loss: 0.0020, Train Acc: 0.9989, Val Loss: 1.2758, Val Acc: 0.8100\n"
          ]
        },
        {
          "output_type": "stream",
          "name": "stderr",
          "text": [
            "Epoch 27/200 [Training]: 100%|██████████| 1219/1219 [01:28<00:00, 13.75it/s, batch_loss=0.0126]\n",
            "Epoch 27/200 [Validation]: 100%|██████████| 136/136 [00:10<00:00, 13.54it/s, batch_loss=1.53]\n"
          ]
        },
        {
          "output_type": "stream",
          "name": "stdout",
          "text": [
            "Epoch [27/200] Train Loss: 0.0021, Train Acc: 0.9988, Val Loss: 1.2814, Val Acc: 0.8088\n"
          ]
        },
        {
          "output_type": "stream",
          "name": "stderr",
          "text": [
            "Epoch 28/200 [Training]: 100%|██████████| 1219/1219 [01:28<00:00, 13.70it/s, batch_loss=1.61e-5]\n",
            "Epoch 28/200 [Validation]: 100%|██████████| 136/136 [00:10<00:00, 12.96it/s, batch_loss=1.48]\n"
          ]
        },
        {
          "output_type": "stream",
          "name": "stdout",
          "text": [
            "Epoch [28/200] Train Loss: 0.0020, Train Acc: 0.9990, Val Loss: 1.3161, Val Acc: 0.8100\n"
          ]
        },
        {
          "output_type": "stream",
          "name": "stderr",
          "text": [
            "Epoch 29/200 [Training]: 100%|██████████| 1219/1219 [01:29<00:00, 13.59it/s, batch_loss=1.27e-5]\n",
            "Epoch 29/200 [Validation]: 100%|██████████| 136/136 [00:09<00:00, 14.77it/s, batch_loss=1.28]\n"
          ]
        },
        {
          "output_type": "stream",
          "name": "stdout",
          "text": [
            "Epoch [29/200] Train Loss: 0.0019, Train Acc: 0.9989, Val Loss: 1.2712, Val Acc: 0.8056\n"
          ]
        },
        {
          "output_type": "stream",
          "name": "stderr",
          "text": [
            "Epoch 30/200 [Training]: 100%|██████████| 1219/1219 [01:27<00:00, 13.95it/s, batch_loss=7.18e-5]\n",
            "Epoch 30/200 [Validation]: 100%|██████████| 136/136 [00:10<00:00, 12.88it/s, batch_loss=1.28]\n"
          ]
        },
        {
          "output_type": "stream",
          "name": "stdout",
          "text": [
            "Epoch [30/200] Train Loss: 0.0019, Train Acc: 0.9990, Val Loss: 1.2928, Val Acc: 0.8058\n"
          ]
        },
        {
          "output_type": "stream",
          "name": "stderr",
          "text": [
            "Epoch 31/200 [Training]: 100%|██████████| 1219/1219 [01:28<00:00, 13.83it/s, batch_loss=0.0159]\n",
            "Epoch 31/200 [Validation]: 100%|██████████| 136/136 [00:10<00:00, 13.37it/s, batch_loss=1.4]\n"
          ]
        },
        {
          "output_type": "stream",
          "name": "stdout",
          "text": [
            "Epoch [31/200] Train Loss: 0.0019, Train Acc: 0.9989, Val Loss: 1.2899, Val Acc: 0.8077\n"
          ]
        },
        {
          "output_type": "stream",
          "name": "stderr",
          "text": [
            "Epoch 32/200 [Training]: 100%|██████████| 1219/1219 [01:30<00:00, 13.41it/s, batch_loss=0.00593]\n",
            "Epoch 32/200 [Validation]: 100%|██████████| 136/136 [00:09<00:00, 14.68it/s, batch_loss=1.71]\n"
          ]
        },
        {
          "output_type": "stream",
          "name": "stdout",
          "text": [
            "Epoch [32/200] Train Loss: 0.0018, Train Acc: 0.9992, Val Loss: 1.3539, Val Acc: 0.8107\n",
            "New best model saved with Val Acc: 0.8107\n"
          ]
        },
        {
          "output_type": "stream",
          "name": "stderr",
          "text": [
            "Epoch 33/200 [Training]: 100%|██████████| 1219/1219 [01:31<00:00, 13.30it/s, batch_loss=0.000164]\n",
            "Epoch 33/200 [Validation]: 100%|██████████| 136/136 [00:09<00:00, 14.77it/s, batch_loss=1.53]\n"
          ]
        },
        {
          "output_type": "stream",
          "name": "stdout",
          "text": [
            "Epoch [33/200] Train Loss: 0.0017, Train Acc: 0.9991, Val Loss: 1.2985, Val Acc: 0.8042\n"
          ]
        },
        {
          "output_type": "stream",
          "name": "stderr",
          "text": [
            "Epoch 34/200 [Training]: 100%|██████████| 1219/1219 [01:27<00:00, 13.91it/s, batch_loss=0.0002]\n",
            "Epoch 34/200 [Validation]: 100%|██████████| 136/136 [00:10<00:00, 12.95it/s, batch_loss=1.29]\n"
          ]
        },
        {
          "output_type": "stream",
          "name": "stdout",
          "text": [
            "Epoch [34/200] Train Loss: 0.0017, Train Acc: 0.9990, Val Loss: 1.2642, Val Acc: 0.8067\n"
          ]
        },
        {
          "output_type": "stream",
          "name": "stderr",
          "text": [
            "Epoch 35/200 [Training]: 100%|██████████| 1219/1219 [01:30<00:00, 13.51it/s, batch_loss=0.00136]\n",
            "Epoch 35/200 [Validation]: 100%|██████████| 136/136 [00:10<00:00, 13.06it/s, batch_loss=1.85]\n"
          ]
        },
        {
          "output_type": "stream",
          "name": "stdout",
          "text": [
            "Epoch [35/200] Train Loss: 0.0017, Train Acc: 0.9992, Val Loss: 1.3987, Val Acc: 0.8093\n"
          ]
        },
        {
          "output_type": "stream",
          "name": "stderr",
          "text": [
            "Epoch 36/200 [Training]: 100%|██████████| 1219/1219 [01:26<00:00, 14.15it/s, batch_loss=0.000237]\n",
            "Epoch 36/200 [Validation]: 100%|██████████| 136/136 [00:10<00:00, 13.48it/s, batch_loss=1.31]\n"
          ]
        },
        {
          "output_type": "stream",
          "name": "stdout",
          "text": [
            "Epoch [36/200] Train Loss: 0.0017, Train Acc: 0.9991, Val Loss: 1.3100, Val Acc: 0.8102\n"
          ]
        },
        {
          "output_type": "stream",
          "name": "stderr",
          "text": [
            "Epoch 37/200 [Training]: 100%|██████████| 1219/1219 [01:27<00:00, 13.90it/s, batch_loss=0.000811]\n",
            "Epoch 37/200 [Validation]: 100%|██████████| 136/136 [00:10<00:00, 13.45it/s, batch_loss=1.27]\n"
          ]
        },
        {
          "output_type": "stream",
          "name": "stdout",
          "text": [
            "Epoch [37/200] Train Loss: 0.0018, Train Acc: 0.9991, Val Loss: 1.3024, Val Acc: 0.8100\n"
          ]
        },
        {
          "output_type": "stream",
          "name": "stderr",
          "text": [
            "Epoch 38/200 [Training]: 100%|██████████| 1219/1219 [01:26<00:00, 14.17it/s, batch_loss=0.000258]\n",
            "Epoch 38/200 [Validation]: 100%|██████████| 136/136 [00:10<00:00, 13.27it/s, batch_loss=1.21]\n"
          ]
        },
        {
          "output_type": "stream",
          "name": "stdout",
          "text": [
            "Epoch [38/200] Train Loss: 0.0018, Train Acc: 0.9989, Val Loss: 1.2982, Val Acc: 0.8014\n"
          ]
        },
        {
          "output_type": "stream",
          "name": "stderr",
          "text": [
            "Epoch 39/200 [Training]: 100%|██████████| 1219/1219 [01:28<00:00, 13.78it/s, batch_loss=1.05e-5]\n",
            "Epoch 39/200 [Validation]: 100%|██████████| 136/136 [00:10<00:00, 12.96it/s, batch_loss=1.46]\n"
          ]
        },
        {
          "output_type": "stream",
          "name": "stdout",
          "text": [
            "Epoch [39/200] Train Loss: 0.0017, Train Acc: 0.9990, Val Loss: 1.3073, Val Acc: 0.8058\n"
          ]
        },
        {
          "output_type": "stream",
          "name": "stderr",
          "text": [
            "Epoch 40/200 [Training]: 100%|██████████| 1219/1219 [01:26<00:00, 14.12it/s, batch_loss=0.00878]\n",
            "Epoch 40/200 [Validation]: 100%|██████████| 136/136 [00:09<00:00, 14.18it/s, batch_loss=1.55]\n"
          ]
        },
        {
          "output_type": "stream",
          "name": "stdout",
          "text": [
            "Epoch [40/200] Train Loss: 0.0018, Train Acc: 0.9991, Val Loss: 1.3196, Val Acc: 0.8118\n",
            "New best model saved with Val Acc: 0.8118\n"
          ]
        },
        {
          "output_type": "stream",
          "name": "stderr",
          "text": [
            "Epoch 41/200 [Training]: 100%|██████████| 1219/1219 [01:30<00:00, 13.44it/s, batch_loss=0.0103]\n",
            "Epoch 41/200 [Validation]: 100%|██████████| 136/136 [00:10<00:00, 13.02it/s, batch_loss=1.56]\n"
          ]
        },
        {
          "output_type": "stream",
          "name": "stdout",
          "text": [
            "Epoch [41/200] Train Loss: 0.0017, Train Acc: 0.9990, Val Loss: 1.3366, Val Acc: 0.8114\n"
          ]
        },
        {
          "output_type": "stream",
          "name": "stderr",
          "text": [
            "Epoch 42/200 [Training]: 100%|██████████| 1219/1219 [01:34<00:00, 12.85it/s, batch_loss=5.95e-5]\n",
            "Epoch 42/200 [Validation]: 100%|██████████| 136/136 [00:10<00:00, 13.17it/s, batch_loss=1.26]\n"
          ]
        },
        {
          "output_type": "stream",
          "name": "stdout",
          "text": [
            "Epoch [42/200] Train Loss: 0.0017, Train Acc: 0.9990, Val Loss: 1.2775, Val Acc: 0.8121\n",
            "New best model saved with Val Acc: 0.8121\n"
          ]
        },
        {
          "output_type": "stream",
          "name": "stderr",
          "text": [
            "Epoch 43/200 [Training]: 100%|██████████| 1219/1219 [01:33<00:00, 13.02it/s, batch_loss=3.79e-6]\n",
            "Epoch 43/200 [Validation]: 100%|██████████| 136/136 [00:09<00:00, 14.42it/s, batch_loss=1.45]\n"
          ]
        },
        {
          "output_type": "stream",
          "name": "stdout",
          "text": [
            "Epoch [43/200] Train Loss: 0.0016, Train Acc: 0.9993, Val Loss: 1.3035, Val Acc: 0.8107\n"
          ]
        },
        {
          "output_type": "stream",
          "name": "stderr",
          "text": [
            "Epoch 44/200 [Training]: 100%|██████████| 1219/1219 [01:30<00:00, 13.53it/s, batch_loss=0.0012]\n",
            "Epoch 44/200 [Validation]: 100%|██████████| 136/136 [00:10<00:00, 12.84it/s, batch_loss=1.43]\n"
          ]
        },
        {
          "output_type": "stream",
          "name": "stdout",
          "text": [
            "Epoch [44/200] Train Loss: 0.0017, Train Acc: 0.9992, Val Loss: 1.3042, Val Acc: 0.8116\n"
          ]
        },
        {
          "output_type": "stream",
          "name": "stderr",
          "text": [
            "Epoch 45/200 [Training]: 100%|██████████| 1219/1219 [01:27<00:00, 13.94it/s, batch_loss=6.56e-7]\n",
            "Epoch 45/200 [Validation]: 100%|██████████| 136/136 [00:09<00:00, 13.86it/s, batch_loss=1.59]\n"
          ]
        },
        {
          "output_type": "stream",
          "name": "stdout",
          "text": [
            "Epoch [45/200] Train Loss: 0.0016, Train Acc: 0.9992, Val Loss: 1.3408, Val Acc: 0.8116\n"
          ]
        },
        {
          "output_type": "stream",
          "name": "stderr",
          "text": [
            "Epoch 46/200 [Training]: 100%|██████████| 1219/1219 [01:31<00:00, 13.36it/s, batch_loss=1.98e-5]\n",
            "Epoch 46/200 [Validation]: 100%|██████████| 136/136 [00:09<00:00, 15.04it/s, batch_loss=1.13]\n"
          ]
        },
        {
          "output_type": "stream",
          "name": "stdout",
          "text": [
            "Epoch [46/200] Train Loss: 0.0016, Train Acc: 0.9991, Val Loss: 1.2923, Val Acc: 0.8051\n"
          ]
        },
        {
          "output_type": "stream",
          "name": "stderr",
          "text": [
            "Epoch 47/200 [Training]: 100%|██████████| 1219/1219 [01:28<00:00, 13.84it/s, batch_loss=7.31e-5]\n",
            "Epoch 47/200 [Validation]: 100%|██████████| 136/136 [00:10<00:00, 13.24it/s, batch_loss=1.45]\n"
          ]
        },
        {
          "output_type": "stream",
          "name": "stdout",
          "text": [
            "Epoch [47/200] Train Loss: 0.0017, Train Acc: 0.9989, Val Loss: 1.3157, Val Acc: 0.8102\n"
          ]
        },
        {
          "output_type": "stream",
          "name": "stderr",
          "text": [
            "Epoch 48/200 [Training]: 100%|██████████| 1219/1219 [01:27<00:00, 13.94it/s, batch_loss=2.83e-6]\n",
            "Epoch 48/200 [Validation]: 100%|██████████| 136/136 [00:09<00:00, 14.05it/s, batch_loss=1.64]\n"
          ]
        },
        {
          "output_type": "stream",
          "name": "stdout",
          "text": [
            "Epoch [48/200] Train Loss: 0.0017, Train Acc: 0.9990, Val Loss: 1.3072, Val Acc: 0.8111\n"
          ]
        },
        {
          "output_type": "stream",
          "name": "stderr",
          "text": [
            "Epoch 49/200 [Training]: 100%|██████████| 1219/1219 [01:26<00:00, 14.07it/s, batch_loss=7.99e-5]\n",
            "Epoch 49/200 [Validation]: 100%|██████████| 136/136 [00:10<00:00, 12.93it/s, batch_loss=1.37]\n"
          ]
        },
        {
          "output_type": "stream",
          "name": "stdout",
          "text": [
            "Epoch [49/200] Train Loss: 0.0016, Train Acc: 0.9992, Val Loss: 1.3026, Val Acc: 0.8091\n"
          ]
        },
        {
          "output_type": "stream",
          "name": "stderr",
          "text": [
            "Epoch 50/200 [Training]: 100%|██████████| 1219/1219 [01:28<00:00, 13.72it/s, batch_loss=4.58e-5]\n",
            "Epoch 50/200 [Validation]: 100%|██████████| 136/136 [00:10<00:00, 12.96it/s, batch_loss=1.47]\n"
          ]
        },
        {
          "output_type": "stream",
          "name": "stdout",
          "text": [
            "Epoch [50/200] Train Loss: 0.0016, Train Acc: 0.9992, Val Loss: 1.2943, Val Acc: 0.8072\n"
          ]
        },
        {
          "output_type": "stream",
          "name": "stderr",
          "text": [
            "Epoch 51/200 [Training]: 100%|██████████| 1219/1219 [01:32<00:00, 13.18it/s, batch_loss=0.00396]\n",
            "Epoch 51/200 [Validation]: 100%|██████████| 136/136 [00:10<00:00, 12.79it/s, batch_loss=1.28]\n"
          ]
        },
        {
          "output_type": "stream",
          "name": "stdout",
          "text": [
            "Epoch [51/200] Train Loss: 0.0019, Train Acc: 0.9990, Val Loss: 1.2907, Val Acc: 0.8081\n"
          ]
        },
        {
          "output_type": "stream",
          "name": "stderr",
          "text": [
            "Epoch 52/200 [Training]: 100%|██████████| 1219/1219 [01:26<00:00, 14.03it/s, batch_loss=0.000546]\n",
            "Epoch 52/200 [Validation]: 100%|██████████| 136/136 [00:09<00:00, 14.24it/s, batch_loss=1.28]\n"
          ]
        },
        {
          "output_type": "stream",
          "name": "stdout",
          "text": [
            "Epoch [52/200] Train Loss: 0.0016, Train Acc: 0.9991, Val Loss: 1.2857, Val Acc: 0.8047\n"
          ]
        },
        {
          "output_type": "stream",
          "name": "stderr",
          "text": [
            "Epoch 53/200 [Training]: 100%|██████████| 1219/1219 [01:28<00:00, 13.74it/s, batch_loss=0.000877]\n",
            "Epoch 53/200 [Validation]: 100%|██████████| 136/136 [00:10<00:00, 13.34it/s, batch_loss=1.38]\n"
          ]
        },
        {
          "output_type": "stream",
          "name": "stdout",
          "text": [
            "Epoch [53/200] Train Loss: 0.0017, Train Acc: 0.9991, Val Loss: 1.3140, Val Acc: 0.8079\n"
          ]
        },
        {
          "output_type": "stream",
          "name": "stderr",
          "text": [
            "Epoch 54/200 [Training]: 100%|██████████| 1219/1219 [01:27<00:00, 13.97it/s, batch_loss=0.00029]\n",
            "Epoch 54/200 [Validation]: 100%|██████████| 136/136 [00:09<00:00, 14.57it/s, batch_loss=1.3]\n"
          ]
        },
        {
          "output_type": "stream",
          "name": "stdout",
          "text": [
            "Epoch [54/200] Train Loss: 0.0017, Train Acc: 0.9992, Val Loss: 1.3072, Val Acc: 0.8049\n"
          ]
        },
        {
          "output_type": "stream",
          "name": "stderr",
          "text": [
            "Epoch 55/200 [Training]: 100%|██████████| 1219/1219 [01:26<00:00, 14.08it/s, batch_loss=0.0145]\n",
            "Epoch 55/200 [Validation]: 100%|██████████| 136/136 [00:10<00:00, 13.45it/s, batch_loss=1.36]\n"
          ]
        },
        {
          "output_type": "stream",
          "name": "stdout",
          "text": [
            "Epoch [55/200] Train Loss: 0.0017, Train Acc: 0.9992, Val Loss: 1.2993, Val Acc: 0.8063\n"
          ]
        },
        {
          "output_type": "stream",
          "name": "stderr",
          "text": [
            "Epoch 56/200 [Training]: 100%|██████████| 1219/1219 [01:27<00:00, 13.95it/s, batch_loss=9.58e-5]\n",
            "Epoch 56/200 [Validation]: 100%|██████████| 136/136 [00:09<00:00, 15.02it/s, batch_loss=1.59]\n"
          ]
        },
        {
          "output_type": "stream",
          "name": "stdout",
          "text": [
            "Epoch [56/200] Train Loss: 0.0016, Train Acc: 0.9992, Val Loss: 1.3101, Val Acc: 0.8077\n"
          ]
        },
        {
          "output_type": "stream",
          "name": "stderr",
          "text": [
            "Epoch 57/200 [Training]: 100%|██████████| 1219/1219 [01:28<00:00, 13.75it/s, batch_loss=2.62e-5]\n",
            "Epoch 57/200 [Validation]: 100%|██████████| 136/136 [00:10<00:00, 12.78it/s, batch_loss=1.33]\n"
          ]
        },
        {
          "output_type": "stream",
          "name": "stdout",
          "text": [
            "Epoch [57/200] Train Loss: 0.0016, Train Acc: 0.9992, Val Loss: 1.3101, Val Acc: 0.8100\n",
            "Early stopping triggered at epoch 57\n",
            "Final Test Accuracy: 0.8031\n"
          ]
        }
      ]
    },
    {
      "cell_type": "code",
      "source": [
        "# Download Checkpoint and Download Best Model\n",
        "files.download(\"checkpoint.pth\")\n",
        "files.download(\"best_model.pth\")"
      ],
      "metadata": {
        "colab": {
          "base_uri": "https://localhost:8080/",
          "height": 17
        },
        "outputId": "7c417155-628d-4426-be15-ddbb1c86e8f4",
        "id": "umsoVMe6Ejjc"
      },
      "execution_count": null,
      "outputs": [
        {
          "output_type": "display_data",
          "data": {
            "text/plain": [
              "<IPython.core.display.Javascript object>"
            ],
            "application/javascript": [
              "\n",
              "    async function download(id, filename, size) {\n",
              "      if (!google.colab.kernel.accessAllowed) {\n",
              "        return;\n",
              "      }\n",
              "      const div = document.createElement('div');\n",
              "      const label = document.createElement('label');\n",
              "      label.textContent = `Downloading \"${filename}\": `;\n",
              "      div.appendChild(label);\n",
              "      const progress = document.createElement('progress');\n",
              "      progress.max = size;\n",
              "      div.appendChild(progress);\n",
              "      document.body.appendChild(div);\n",
              "\n",
              "      const buffers = [];\n",
              "      let downloaded = 0;\n",
              "\n",
              "      const channel = await google.colab.kernel.comms.open(id);\n",
              "      // Send a message to notify the kernel that we're ready.\n",
              "      channel.send({})\n",
              "\n",
              "      for await (const message of channel.messages) {\n",
              "        // Send a message to notify the kernel that we're ready.\n",
              "        channel.send({})\n",
              "        if (message.buffers) {\n",
              "          for (const buffer of message.buffers) {\n",
              "            buffers.push(buffer);\n",
              "            downloaded += buffer.byteLength;\n",
              "            progress.value = downloaded;\n",
              "          }\n",
              "        }\n",
              "      }\n",
              "      const blob = new Blob(buffers, {type: 'application/binary'});\n",
              "      const a = document.createElement('a');\n",
              "      a.href = window.URL.createObjectURL(blob);\n",
              "      a.download = filename;\n",
              "      div.appendChild(a);\n",
              "      a.click();\n",
              "      div.remove();\n",
              "    }\n",
              "  "
            ]
          },
          "metadata": {}
        },
        {
          "output_type": "display_data",
          "data": {
            "text/plain": [
              "<IPython.core.display.Javascript object>"
            ],
            "application/javascript": [
              "download(\"download_f4232908-f484-4b7a-a7f2-c11323d1a2b5\", \"checkpoint.pth\", 111971518)"
            ]
          },
          "metadata": {}
        },
        {
          "output_type": "display_data",
          "data": {
            "text/plain": [
              "<IPython.core.display.Javascript object>"
            ],
            "application/javascript": [
              "\n",
              "    async function download(id, filename, size) {\n",
              "      if (!google.colab.kernel.accessAllowed) {\n",
              "        return;\n",
              "      }\n",
              "      const div = document.createElement('div');\n",
              "      const label = document.createElement('label');\n",
              "      label.textContent = `Downloading \"${filename}\": `;\n",
              "      div.appendChild(label);\n",
              "      const progress = document.createElement('progress');\n",
              "      progress.max = size;\n",
              "      div.appendChild(progress);\n",
              "      document.body.appendChild(div);\n",
              "\n",
              "      const buffers = [];\n",
              "      let downloaded = 0;\n",
              "\n",
              "      const channel = await google.colab.kernel.comms.open(id);\n",
              "      // Send a message to notify the kernel that we're ready.\n",
              "      channel.send({})\n",
              "\n",
              "      for await (const message of channel.messages) {\n",
              "        // Send a message to notify the kernel that we're ready.\n",
              "        channel.send({})\n",
              "        if (message.buffers) {\n",
              "          for (const buffer of message.buffers) {\n",
              "            buffers.push(buffer);\n",
              "            downloaded += buffer.byteLength;\n",
              "            progress.value = downloaded;\n",
              "          }\n",
              "        }\n",
              "      }\n",
              "      const blob = new Blob(buffers, {type: 'application/binary'});\n",
              "      const a = document.createElement('a');\n",
              "      a.href = window.URL.createObjectURL(blob);\n",
              "      a.download = filename;\n",
              "      div.appendChild(a);\n",
              "      a.click();\n",
              "      div.remove();\n",
              "    }\n",
              "  "
            ]
          },
          "metadata": {}
        },
        {
          "output_type": "display_data",
          "data": {
            "text/plain": [
              "<IPython.core.display.Javascript object>"
            ],
            "application/javascript": [
              "download(\"download_7a5fe5e0-14a3-4afa-8494-1eb12d7b14ee\", \"best_model.pth\", 44791819)"
            ]
          },
          "metadata": {}
        }
      ]
    },
    {
      "cell_type": "markdown",
      "source": [
        "# Evaluation of Trained Model"
      ],
      "metadata": {
        "id": "M_yUGT72UENO"
      }
    },
    {
      "cell_type": "code",
      "source": [
        "# cm, labels, preds = evaluate_model(model, test_loader, train_dataset.new_classes, device=device)\n",
        "\n",
        "results = evaluate_model(resnet, test_loader, new_classes, device)\n",
        "\n",
        "print(\"Overall Accuracy:\", results[\"accuracy\"])\n",
        "print(\"Per-class metrics:\", results[\"classification_report\"])"
      ],
      "metadata": {
        "colab": {
          "base_uri": "https://localhost:8080/",
          "height": 1000
        },
        "id": "z745EiAEbBDE",
        "outputId": "daed9056-72ee-404a-aef0-22147056b1ac"
      },
      "execution_count": null,
      "outputs": [
        {
          "output_type": "stream",
          "name": "stderr",
          "text": [
            "/usr/local/lib/python3.12/dist-packages/torch/utils/data/dataloader.py:627: UserWarning: This DataLoader will create 4 worker processes in total. Our suggested max number of worker in current system is 2, which is smaller than what this DataLoader is going to create. Please be aware that excessive worker creation might get DataLoader running slow or even freeze, lower the worker number to avoid potential slowness/freeze if necessary.\n",
            "  warnings.warn(\n"
          ]
        },
        {
          "output_type": "display_data",
          "data": {
            "text/plain": [
              "<Figure size 600x500 with 2 Axes>"
            ],
            "image/png": "[encoded data removed]"
          },
          "metadata": {}
        },
        {
          "output_type": "display_data",
          "data": {
            "text/plain": [
              "<Figure size 600x500 with 2 Axes>"
            ],
            "image/png": "[encoded data removed]"
          },
          "metadata": {}
        },
        {
          "output_type": "stream",
          "name": "stdout",
          "text": [
            "\n",
            "Classification Report (Tabular Form):\n",
            "\n",
            "              precision    recall  f1-score       support\n",
            "negative       0.844159  0.860953  0.852473   9148.000000\n",
            "neutral        0.679327  0.784782  0.728257   3601.000000\n",
            "positive       0.823520  0.739106  0.779033   7229.000000\n",
            "accuracy       0.803133  0.803133  0.803133      0.803133\n",
            "macro avg      0.782335  0.794947  0.786588  19978.000000\n",
            "weighted avg   0.806980  0.803133  0.803509  19978.000000\n",
            "Overall Accuracy: 0.8031334467914706\n",
            "Per-class metrics:               precision    recall  f1-score       support\n",
            "negative       0.844159  0.860953  0.852473   9148.000000\n",
            "neutral        0.679327  0.784782  0.728257   3601.000000\n",
            "positive       0.823520  0.739106  0.779033   7229.000000\n",
            "accuracy       0.803133  0.803133  0.803133      0.803133\n",
            "macro avg      0.782335  0.794947  0.786588  19978.000000\n",
            "weighted avg   0.806980  0.803133  0.803509  19978.000000\n"
          ]
        }
      ]
    },
    {
      "cell_type": "markdown",
      "source": [
        "# Test Model"
      ],
      "metadata": {
        "id": "82GoMHqNGHAr"
      }
    },
    {
      "cell_type": "code",
      "source": [
        "from google.colab import files\n",
        "from PIL import Image\n",
        "import torchvision.transforms as transforms\n",
        "import torch\n",
        "\n",
        "# Upload an image\n",
        "uploaded = files.upload()  # will open file picker\n",
        "\n",
        "# Load the uploaded file (just take the first file)\n",
        "file_path = list(uploaded.keys())[0]\n",
        "img = Image.open(file_path).convert(\"RGB\")  # convert to 3 channels\n",
        "\n",
        "# Transform (same as test_transform)\n",
        "transform = transforms.Compose([\n",
        "    transforms.Resize((224, 224)),\n",
        "    transforms.ToTensor(),\n",
        "    transforms.Normalize([0.485, 0.456, 0.406],\n",
        "                         [0.229, 0.224, 0.225])\n",
        "])\n",
        "img_t = transform(img).unsqueeze(0)  # add batch dimension\n",
        "\n",
        "# Predict\n",
        "resnet.eval()\n",
        "with torch.no_grad():\n",
        "    img_t = img_t.to(next(resnet.parameters()).device)\n",
        "    output = resnet(img_t)\n",
        "    _, pred = torch.max(output, 1)\n",
        "\n",
        "classes = ['negative', 'neutral', 'positive']\n",
        "print(\"Predicted class:\", classes[pred.item()])\n"
      ],
      "metadata": {
        "id": "KYvzhEtJGNQ8",
        "colab": {
          "base_uri": "https://localhost:8080/",
          "height": 91
        },
        "outputId": "94b7c118-b62f-4dc0-b151-165d0674d59e"
      },
      "execution_count": null,
      "outputs": [
        {
          "output_type": "display_data",
          "data": {
            "text/plain": [
              "<IPython.core.display.HTML object>"
            ],
            "text/html": [
              "\n",
              "     <input type=\"file\" id=\"files-244a5a56-1e64-41d1-bcad-fffbb1d7c103\" name=\"files[]\" multiple disabled\n",
              "        style=\"border:none\" />\n",
              "     <output id=\"result-244a5a56-1e64-41d1-bcad-fffbb1d7c103\">\n",
              "      Upload widget is only available when the cell has been executed in the\n",
              "      current browser session. Please rerun this cell to enable.\n",
              "      </output>\n",
              "      <script>// Copyright 2017 Google LLC\n",
              "//\n",
              "// Licensed under the Apache License, Version 2.0 (the \"License\");\n",
              "// you may not use this file except in compliance with the License.\n",
              "// You may obtain a copy of the License at\n",
              "//\n",
              "//      http://www.apache.org/licenses/LICENSE-2.0\n",
              "//\n",
              "// Unless required by applicable law or agreed to in writing, software\n",
              "// distributed under the License is distributed on an \"AS IS\" BASIS,\n",
              "// WITHOUT WARRANTIES OR CONDITIONS OF ANY KIND, either express or implied.\n",
              "// See the License for the specific language governing permissions and\n",
              "// limitations under the License.\n",
              "\n",
              "/**\n",
              " * @fileoverview Helpers for google.colab Python module.\n",
              " */\n",
              "(function(scope) {\n",
              "function span(text, styleAttributes = {}) {\n",
              "  const element = document.createElement('span');\n",
              "  element.textContent = text;\n",
              "  for (const key of Object.keys(styleAttributes)) {\n",
              "    element.style[key] = styleAttributes[key];\n",
              "  }\n",
              "  return element;\n",
              "}\n",
              "\n",
              "// Max number of bytes which will be uploaded at a time.\n",
              "const MAX_PAYLOAD_SIZE = 100 * 1024;\n",
              "\n",
              "function _uploadFiles(inputId, outputId) {\n",
              "  const steps = uploadFilesStep(inputId, outputId);\n",
              "  const outputElement = document.getElementById(outputId);\n",
              "  // Cache steps on the outputElement to make it available for the next call\n",
              "  // to uploadFilesContinue from Python.\n",
              "  outputElement.steps = steps;\n",
              "\n",
              "  return _uploadFilesContinue(outputId);\n",
              "}\n",
              "\n",
              "// This is roughly an async generator (not supported in the browser yet),\n",
              "// where there are multiple asynchronous steps and the Python side is going\n",
              "// to poll for completion of each step.\n",
              "// This uses a Promise to block the python side on completion of each step,\n",
              "// then passes the result of the previous step as the input to the next step.\n",
              "function _uploadFilesContinue(outputId) {\n",
              "  const outputElement = document.getElementById(outputId);\n",
              "  const steps = outputElement.steps;\n",
              "\n",
              "  const next = steps.next(outputElement.lastPromiseValue);\n",
              "  return Promise.resolve(next.value.promise).then((value) => {\n",
              "    // Cache the last promise value to make it available to the next\n",
              "    // step of the generator.\n",
              "    outputElement.lastPromiseValue = value;\n",
              "    return next.value.response;\n",
              "  });\n",
              "}\n",
              "\n",
              "/**\n",
              " * Generator function which is called between each async step of the upload\n",
              " * process.\n",
              " * @param {string} inputId Element ID of the input file picker element.\n",
              " * @param {string} outputId Element ID of the output display.\n",
              " * @return {!Iterable<!Object>} Iterable of next steps.\n",
              " */\n",
              "function* uploadFilesStep(inputId, outputId) {\n",
              "  const inputElement = document.getElementById(inputId);\n",
              "  inputElement.disabled = false;\n",
              "\n",
              "  const outputElement = document.getElementById(outputId);\n",
              "  outputElement.innerHTML = '';\n",
              "\n",
              "  const pickedPromise = new Promise((resolve) => {\n",
              "    inputElement.addEventListener('change', (e) => {\n",
              "      resolve(e.target.files);\n",
              "    });\n",
              "  });\n",
              "\n",
              "  const cancel = document.createElement('button');\n",
              "  inputElement.parentElement.appendChild(cancel);\n",
              "  cancel.textContent = 'Cancel upload';\n",
              "  const cancelPromise = new Promise((resolve) => {\n",
              "    cancel.onclick = () => {\n",
              "      resolve(null);\n",
              "    };\n",
              "  });\n",
              "\n",
              "  // Wait for the user to pick the files.\n",
              "  const files = yield {\n",
              "    promise: Promise.race([pickedPromise, cancelPromise]),\n",
              "    response: {\n",
              "      action: 'starting',\n",
              "    }\n",
              "  };\n",
              "\n",
              "  cancel.remove();\n",
              "\n",
              "  // Disable the input element since further picks are not allowed.\n",
              "  inputElement.disabled = true;\n",
              "\n",
              "  if (!files) {\n",
              "    return {\n",
              "      response: {\n",
              "        action: 'complete',\n",
              "      }\n",
              "    };\n",
              "  }\n",
              "\n",
              "  for (const file of files) {\n",
              "    const li = document.createElement('li');\n",
              "    li.append(span(file.name, {fontWeight: 'bold'}));\n",
              "    li.append(span(\n",
              "        `(${file.type || 'n/a'}) - ${file.size} bytes, ` +\n",
              "        `last modified: ${\n",
              "            file.lastModifiedDate ? file.lastModifiedDate.toLocaleDateString() :\n",
              "                                    'n/a'} - `));\n",
              "    const percent = span('0% done');\n",
              "    li.appendChild(percent);\n",
              "\n",
              "    outputElement.appendChild(li);\n",
              "\n",
              "    const fileDataPromise = new Promise((resolve) => {\n",
              "      const reader = new FileReader();\n",
              "      reader.onload = (e) => {\n",
              "        resolve(e.target.result);\n",
              "      };\n",
              "      reader.readAsArrayBuffer(file);\n",
              "    });\n",
              "    // Wait for the data to be ready.\n",
              "    let fileData = yield {\n",
              "      promise: fileDataPromise,\n",
              "      response: {\n",
              "        action: 'continue',\n",
              "      }\n",
              "    };\n",
              "\n",
              "    // Use a chunked sending to avoid message size limits. See b/62115660.\n",
              "    let position = 0;\n",
              "    do {\n",
              "      const length = Math.min(fileData.byteLength - position, MAX_PAYLOAD_SIZE);\n",
              "      const chunk = new Uint8Array(fileData, position, length);\n",
              "      position += length;\n",
              "\n",
              "      const base64 = btoa(String.fromCharCode.apply(null, chunk));\n",
              "      yield {\n",
              "        response: {\n",
              "          action: 'append',\n",
              "          file: file.name,\n",
              "          data: base64,\n",
              "        },\n",
              "      };\n",
              "\n",
              "      let percentDone = fileData.byteLength === 0 ?\n",
              "          100 :\n",
              "          Math.round((position / fileData.byteLength) * 100);\n",
              "      percent.textContent = `${percentDone}% done`;\n",
              "\n",
              "    } while (position < fileData.byteLength);\n",
              "  }\n",
              "\n",
              "  // All done.\n",
              "  yield {\n",
              "    response: {\n",
              "      action: 'complete',\n",
              "    }\n",
              "  };\n",
              "}\n",
              "\n",
              "scope.google = scope.google || {};\n",
              "scope.google.colab = scope.google.colab || {};\n",
              "scope.google.colab._files = {\n",
              "  _uploadFiles,\n",
              "  _uploadFilesContinue,\n",
              "};\n",
              "})(self);\n",
              "</script> "
            ]
          },
          "metadata": {}
        },
        {
          "output_type": "stream",
          "name": "stdout",
          "text": [
            "Saving 220_F_48883681_3YSVqKeyIvDNGZ9t0A8ynIFaeo64sHDm.jpg to 220_F_48883681_3YSVqKeyIvDNGZ9t0A8ynIFaeo64sHDm.jpg\n",
            "Predicted class: negative\n"
          ]
        }
      ]
    },
    {
      "cell_type": "markdown",
      "source": [
        "#Export Checkpoint to ONNX"
      ],
      "metadata": {
        "id": "9ijOKHQIFQNl"
      }
    },
    {
      "cell_type": "code",
      "source": [
        "import onnx\n",
        "dummy_input = torch.randn(1, 3, 224, 224).to(device)\n",
        "onnx_path = \"/content/emotion_model.onnx\"\n",
        "\n",
        "resnet.eval()\n",
        "\n",
        "torch.onnx.export(\n",
        "    resnet,\n",
        "    dummy_input,\n",
        "    onnx_path,\n",
        "    input_names=['input'],\n",
        "    output_names=['output'],\n",
        "    dynamic_axes={'input': {0: 'batch_size'}, 'output': {0: 'batch_size'}},\n",
        "    opset_version=11\n",
        ")\n",
        "\n",
        "print(f\"ONNX model saved at {onnx_path}\")\n",
        "files.download(onnx_path)\n"
      ],
      "metadata": {
        "colab": {
          "base_uri": "https://localhost:8080/",
          "height": 89
        },
        "id": "NM8PkoFUozcl",
        "outputId": "a3f27242-735f-477f-8a8f-87edc91b8312"
      },
      "execution_count": null,
      "outputs": [
        {
          "output_type": "stream",
          "name": "stderr",
          "text": [
            "/tmp/ipython-input-1471265024.py:7: DeprecationWarning: You are using the legacy TorchScript-based ONNX export. Starting in PyTorch 2.9, the new torch.export-based ONNX exporter will be the default. To switch now, set dynamo=True in torch.onnx.export. This new exporter supports features like exporting LLMs with DynamicCache. We encourage you to try it and share feedback to help improve the experience. Learn more about the new export logic: https://pytorch.org/docs/stable/onnx_dynamo.html. For exporting control flow: https://pytorch.org/tutorials/beginner/onnx/export_control_flow_model_to_onnx_tutorial.html.\n",
            "  torch.onnx.export(\n"
          ]
        },
        {
          "output_type": "stream",
          "name": "stdout",
          "text": [
            "ONNX model saved at /content/emotion_model.onnx\n"
          ]
        },
        {
          "output_type": "display_data",
          "data": {
            "text/plain": [
              "<IPython.core.display.Javascript object>"
            ],
            "application/javascript": [
              "\n",
              "    async function download(id, filename, size) {\n",
              "      if (!google.colab.kernel.accessAllowed) {\n",
              "        return;\n",
              "      }\n",
              "      const div = document.createElement('div');\n",
              "      const label = document.createElement('label');\n",
              "      label.textContent = `Downloading \"${filename}\": `;\n",
              "      div.appendChild(label);\n",
              "      const progress = document.createElement('progress');\n",
              "      progress.max = size;\n",
              "      div.appendChild(progress);\n",
              "      document.body.appendChild(div);\n",
              "\n",
              "      const buffers = [];\n",
              "      let downloaded = 0;\n",
              "\n",
              "      const channel = await google.colab.kernel.comms.open(id);\n",
              "      // Send a message to notify the kernel that we're ready.\n",
              "      channel.send({})\n",
              "\n",
              "      for await (const message of channel.messages) {\n",
              "        // Send a message to notify the kernel that we're ready.\n",
              "        channel.send({})\n",
              "        if (message.buffers) {\n",
              "          for (const buffer of message.buffers) {\n",
              "            buffers.push(buffer);\n",
              "            downloaded += buffer.byteLength;\n",
              "            progress.value = downloaded;\n",
              "          }\n",
              "        }\n",
              "      }\n",
              "      const blob = new Blob(buffers, {type: 'application/binary'});\n",
              "      const a = document.createElement('a');\n",
              "      a.href = window.URL.createObjectURL(blob);\n",
              "      a.download = filename;\n",
              "      div.appendChild(a);\n",
              "      a.click();\n",
              "      div.remove();\n",
              "    }\n",
              "  "
            ]
          },
          "metadata": {}
        },
        {
          "output_type": "display_data",
          "data": {
            "text/plain": [
              "<IPython.core.display.Javascript object>"
            ],
            "application/javascript": [
              "download(\"download_014003ea-562e-4ad8-9dbd-c2ee07a9a208\", \"emotion_model.onnx\", 44702719)"
            ]
          },
          "metadata": {}
        }
      ]
    },
    {
      "cell_type": "code",
      "source": [
        "## Get ONNX Details"
      ],
      "metadata": {
        "id": "CLGKl2IfyfFZ"
      },
      "execution_count": null,
      "outputs": []
    },
    {
      "cell_type": "code",
      "source": [
        "!pip install onnx\n"
      ],
      "metadata": {
        "colab": {
          "base_uri": "https://localhost:8080/"
        },
        "id": "6Dg3wWM_whq7",
        "outputId": "b6c5c40f-3640-4c22-b030-d4f1358ea926"
      },
      "execution_count": null,
      "outputs": [
        {
          "output_type": "stream",
          "name": "stdout",
          "text": [
            "Collecting onnx\n",
            "  Downloading onnx-1.19.0-cp312-cp312-manylinux2014_x86_64.manylinux_2_17_x86_64.whl.metadata (7.0 kB)\n",
            "Requirement already satisfied: numpy>=1.22 in /usr/local/lib/python3.12/dist-packages (from onnx) (2.0.2)\n",
            "Requirement already satisfied: protobuf>=4.25.1 in /usr/local/lib/python3.12/dist-packages (from onnx) (5.29.5)\n",
            "Requirement already satisfied: typing_extensions>=4.7.1 in /usr/local/lib/python3.12/dist-packages (from onnx) (4.15.0)\n",
            "Requirement already satisfied: ml_dtypes in /usr/local/lib/python3.12/dist-packages (from onnx) (0.5.3)\n",
            "Downloading onnx-1.19.0-cp312-cp312-manylinux2014_x86_64.manylinux_2_17_x86_64.whl (18.2 MB)\n",
            "\u001b[2K   \u001b[90m━━━━━━━━━━━━━━━━━━━━━━━━━━━━━━━━━━━━━━━━\u001b[0m \u001b[32m18.2/18.2 MB\u001b[0m \u001b[31m69.5 MB/s\u001b[0m eta \u001b[36m0:00:00\u001b[0m\n",
            "\u001b[?25hInstalling collected packages: onnx\n",
            "Successfully installed onnx-1.19.0\n"
          ]
        }
      ]
    },
    {
      "cell_type": "code",
      "source": [
        "import onnx\n",
        "from google.colab import files\n",
        "from PIL import Image\n",
        "import torchvision.transforms as transforms\n",
        "import torch\n",
        "\n",
        "# Upload ONNX model\n",
        "print(\"Upload your ONNX model file:\")\n",
        "uploaded_onnx = files.upload()  # File picker\n",
        "onnx_file_path = list(uploaded_onnx.keys())[0]\n",
        "print(f\"Uploaded ONNX file: {onnx_file_path}\")\n",
        "\n",
        "# Load the ONNX model\n",
        "model = onnx.load(onnx_file_path)\n",
        "print(\"\\n--- Model loaded ---\\n\")\n",
        "\n",
        "# Print input and output node names\n",
        "print(\"Model Inputs:\")\n",
        "for inp in model.graph.input:\n",
        "    print(f\"Name: {inp.name}, Type: {inp.type}\")\n",
        "\n",
        "print(\"\\nModel Outputs:\")\n",
        "for out in model.graph.output:\n",
        "    print(f\"Name: {out.name}, Type: {out.type}\")\n",
        "\n",
        "# Upload an image\n",
        "upload_image = input(\"\\nDo you want to upload an image to check preprocessing? (y/n): \")\n",
        "if upload_image.lower() == 'y':\n",
        "    print(\"Upload your image file:\")\n",
        "    uploaded_img = files.upload()\n",
        "    img_path = list(uploaded_img.keys())[0]\n",
        "\n",
        "    # Load image\n",
        "    img = Image.open(img_path).convert(\"RGB\")\n",
        "\n",
        "    # Example transform like in training\n",
        "    transform = transforms.Compose([\n",
        "        transforms.Resize((224, 224)),\n",
        "        transforms.ToTensor(),\n",
        "        transforms.Normalize([0.485, 0.456, 0.406],\n",
        "                             [0.229, 0.224, 0.225])\n",
        "    ])\n",
        "    img_t = transform(img).unsqueeze(0)\n",
        "    print(f\"\\nImage tensor shape: {img_t.shape}\")\n",
        "    print(\"Ready to pass to ONNX runtime with input name above.\")\n"
      ],
      "metadata": {
        "colab": {
          "base_uri": "https://localhost:8080/",
          "height": 894
        },
        "id": "A9U80awMwlvF",
        "outputId": "f5e29c43-a5e7-4ac6-e3ee-e50822661616"
      },
      "execution_count": null,
      "outputs": [
        {
          "output_type": "stream",
          "name": "stdout",
          "text": [
            "Upload your ONNX model file:\n"
          ]
        },
        {
          "output_type": "display_data",
          "data": {
            "text/plain": [
              "<IPython.core.display.HTML object>"
            ],
            "text/html": [
              "\n",
              "     <input type=\"file\" id=\"files-024b6252-78a4-43e9-9301-eb9ac36b7788\" name=\"files[]\" multiple disabled\n",
              "        style=\"border:none\" />\n",
              "     <output id=\"result-024b6252-78a4-43e9-9301-eb9ac36b7788\">\n",
              "      Upload widget is only available when the cell has been executed in the\n",
              "      current browser session. Please rerun this cell to enable.\n",
              "      </output>\n",
              "      <script>// Copyright 2017 Google LLC\n",
              "//\n",
              "// Licensed under the Apache License, Version 2.0 (the \"License\");\n",
              "// you may not use this file except in compliance with the License.\n",
              "// You may obtain a copy of the License at\n",
              "//\n",
              "//      http://www.apache.org/licenses/LICENSE-2.0\n",
              "//\n",
              "// Unless required by applicable law or agreed to in writing, software\n",
              "// distributed under the License is distributed on an \"AS IS\" BASIS,\n",
              "// WITHOUT WARRANTIES OR CONDITIONS OF ANY KIND, either express or implied.\n",
              "// See the License for the specific language governing permissions and\n",
              "// limitations under the License.\n",
              "\n",
              "/**\n",
              " * @fileoverview Helpers for google.colab Python module.\n",
              " */\n",
              "(function(scope) {\n",
              "function span(text, styleAttributes = {}) {\n",
              "  const element = document.createElement('span');\n",
              "  element.textContent = text;\n",
              "  for (const key of Object.keys(styleAttributes)) {\n",
              "    element.style[key] = styleAttributes[key];\n",
              "  }\n",
              "  return element;\n",
              "}\n",
              "\n",
              "// Max number of bytes which will be uploaded at a time.\n",
              "const MAX_PAYLOAD_SIZE = 100 * 1024;\n",
              "\n",
              "function _uploadFiles(inputId, outputId) {\n",
              "  const steps = uploadFilesStep(inputId, outputId);\n",
              "  const outputElement = document.getElementById(outputId);\n",
              "  // Cache steps on the outputElement to make it available for the next call\n",
              "  // to uploadFilesContinue from Python.\n",
              "  outputElement.steps = steps;\n",
              "\n",
              "  return _uploadFilesContinue(outputId);\n",
              "}\n",
              "\n",
              "// This is roughly an async generator (not supported in the browser yet),\n",
              "// where there are multiple asynchronous steps and the Python side is going\n",
              "// to poll for completion of each step.\n",
              "// This uses a Promise to block the python side on completion of each step,\n",
              "// then passes the result of the previous step as the input to the next step.\n",
              "function _uploadFilesContinue(outputId) {\n",
              "  const outputElement = document.getElementById(outputId);\n",
              "  const steps = outputElement.steps;\n",
              "\n",
              "  const next = steps.next(outputElement.lastPromiseValue);\n",
              "  return Promise.resolve(next.value.promise).then((value) => {\n",
              "    // Cache the last promise value to make it available to the next\n",
              "    // step of the generator.\n",
              "    outputElement.lastPromiseValue = value;\n",
              "    return next.value.response;\n",
              "  });\n",
              "}\n",
              "\n",
              "/**\n",
              " * Generator function which is called between each async step of the upload\n",
              " * process.\n",
              " * @param {string} inputId Element ID of the input file picker element.\n",
              " * @param {string} outputId Element ID of the output display.\n",
              " * @return {!Iterable<!Object>} Iterable of next steps.\n",
              " */\n",
              "function* uploadFilesStep(inputId, outputId) {\n",
              "  const inputElement = document.getElementById(inputId);\n",
              "  inputElement.disabled = false;\n",
              "\n",
              "  const outputElement = document.getElementById(outputId);\n",
              "  outputElement.innerHTML = '';\n",
              "\n",
              "  const pickedPromise = new Promise((resolve) => {\n",
              "    inputElement.addEventListener('change', (e) => {\n",
              "      resolve(e.target.files);\n",
              "    });\n",
              "  });\n",
              "\n",
              "  const cancel = document.createElement('button');\n",
              "  inputElement.parentElement.appendChild(cancel);\n",
              "  cancel.textContent = 'Cancel upload';\n",
              "  const cancelPromise = new Promise((resolve) => {\n",
              "    cancel.onclick = () => {\n",
              "      resolve(null);\n",
              "    };\n",
              "  });\n",
              "\n",
              "  // Wait for the user to pick the files.\n",
              "  const files = yield {\n",
              "    promise: Promise.race([pickedPromise, cancelPromise]),\n",
              "    response: {\n",
              "      action: 'starting',\n",
              "    }\n",
              "  };\n",
              "\n",
              "  cancel.remove();\n",
              "\n",
              "  // Disable the input element since further picks are not allowed.\n",
              "  inputElement.disabled = true;\n",
              "\n",
              "  if (!files) {\n",
              "    return {\n",
              "      response: {\n",
              "        action: 'complete',\n",
              "      }\n",
              "    };\n",
              "  }\n",
              "\n",
              "  for (const file of files) {\n",
              "    const li = document.createElement('li');\n",
              "    li.append(span(file.name, {fontWeight: 'bold'}));\n",
              "    li.append(span(\n",
              "        `(${file.type || 'n/a'}) - ${file.size} bytes, ` +\n",
              "        `last modified: ${\n",
              "            file.lastModifiedDate ? file.lastModifiedDate.toLocaleDateString() :\n",
              "                                    'n/a'} - `));\n",
              "    const percent = span('0% done');\n",
              "    li.appendChild(percent);\n",
              "\n",
              "    outputElement.appendChild(li);\n",
              "\n",
              "    const fileDataPromise = new Promise((resolve) => {\n",
              "      const reader = new FileReader();\n",
              "      reader.onload = (e) => {\n",
              "        resolve(e.target.result);\n",
              "      };\n",
              "      reader.readAsArrayBuffer(file);\n",
              "    });\n",
              "    // Wait for the data to be ready.\n",
              "    let fileData = yield {\n",
              "      promise: fileDataPromise,\n",
              "      response: {\n",
              "        action: 'continue',\n",
              "      }\n",
              "    };\n",
              "\n",
              "    // Use a chunked sending to avoid message size limits. See b/62115660.\n",
              "    let position = 0;\n",
              "    do {\n",
              "      const length = Math.min(fileData.byteLength - position, MAX_PAYLOAD_SIZE);\n",
              "      const chunk = new Uint8Array(fileData, position, length);\n",
              "      position += length;\n",
              "\n",
              "      const base64 = btoa(String.fromCharCode.apply(null, chunk));\n",
              "      yield {\n",
              "        response: {\n",
              "          action: 'append',\n",
              "          file: file.name,\n",
              "          data: base64,\n",
              "        },\n",
              "      };\n",
              "\n",
              "      let percentDone = fileData.byteLength === 0 ?\n",
              "          100 :\n",
              "          Math.round((position / fileData.byteLength) * 100);\n",
              "      percent.textContent = `${percentDone}% done`;\n",
              "\n",
              "    } while (position < fileData.byteLength);\n",
              "  }\n",
              "\n",
              "  // All done.\n",
              "  yield {\n",
              "    response: {\n",
              "      action: 'complete',\n",
              "    }\n",
              "  };\n",
              "}\n",
              "\n",
              "scope.google = scope.google || {};\n",
              "scope.google.colab = scope.google.colab || {};\n",
              "scope.google.colab._files = {\n",
              "  _uploadFiles,\n",
              "  _uploadFilesContinue,\n",
              "};\n",
              "})(self);\n",
              "</script> "
            ]
          },
          "metadata": {}
        },
        {
          "output_type": "stream",
          "name": "stdout",
          "text": [
            "Saving emotion_model.onnx to emotion_model.onnx\n",
            "Uploaded ONNX file: emotion_model.onnx\n",
            "\n",
            "--- Model loaded ---\n",
            "\n",
            "Model Inputs:\n",
            "Name: input, Type: tensor_type {\n",
            "  elem_type: 1\n",
            "  shape {\n",
            "    dim {\n",
            "      dim_param: \"batch_size\"\n",
            "    }\n",
            "    dim {\n",
            "      dim_value: 3\n",
            "    }\n",
            "    dim {\n",
            "      dim_value: 224\n",
            "    }\n",
            "    dim {\n",
            "      dim_value: 224\n",
            "    }\n",
            "  }\n",
            "}\n",
            "\n",
            "\n",
            "Model Outputs:\n",
            "Name: output, Type: tensor_type {\n",
            "  elem_type: 1\n",
            "  shape {\n",
            "    dim {\n",
            "      dim_param: \"batch_size\"\n",
            "    }\n",
            "    dim {\n",
            "      dim_value: 3\n",
            "    }\n",
            "  }\n",
            "}\n",
            "\n",
            "\n",
            "Do you want to upload an image to check preprocessing? (y/n): y\n",
            "Upload your image file:\n"
          ]
        },
        {
          "output_type": "display_data",
          "data": {
            "text/plain": [
              "<IPython.core.display.HTML object>"
            ],
            "text/html": [
              "\n",
              "     <input type=\"file\" id=\"files-2fbe2c84-e3f9-4553-9b63-e7e6285603c6\" name=\"files[]\" multiple disabled\n",
              "        style=\"border:none\" />\n",
              "     <output id=\"result-2fbe2c84-e3f9-4553-9b63-e7e6285603c6\">\n",
              "      Upload widget is only available when the cell has been executed in the\n",
              "      current browser session. Please rerun this cell to enable.\n",
              "      </output>\n",
              "      <script>// Copyright 2017 Google LLC\n",
              "//\n",
              "// Licensed under the Apache License, Version 2.0 (the \"License\");\n",
              "// you may not use this file except in compliance with the License.\n",
              "// You may obtain a copy of the License at\n",
              "//\n",
              "//      http://www.apache.org/licenses/LICENSE-2.0\n",
              "//\n",
              "// Unless required by applicable law or agreed to in writing, software\n",
              "// distributed under the License is distributed on an \"AS IS\" BASIS,\n",
              "// WITHOUT WARRANTIES OR CONDITIONS OF ANY KIND, either express or implied.\n",
              "// See the License for the specific language governing permissions and\n",
              "// limitations under the License.\n",
              "\n",
              "/**\n",
              " * @fileoverview Helpers for google.colab Python module.\n",
              " */\n",
              "(function(scope) {\n",
              "function span(text, styleAttributes = {}) {\n",
              "  const element = document.createElement('span');\n",
              "  element.textContent = text;\n",
              "  for (const key of Object.keys(styleAttributes)) {\n",
              "    element.style[key] = styleAttributes[key];\n",
              "  }\n",
              "  return element;\n",
              "}\n",
              "\n",
              "// Max number of bytes which will be uploaded at a time.\n",
              "const MAX_PAYLOAD_SIZE = 100 * 1024;\n",
              "\n",
              "function _uploadFiles(inputId, outputId) {\n",
              "  const steps = uploadFilesStep(inputId, outputId);\n",
              "  const outputElement = document.getElementById(outputId);\n",
              "  // Cache steps on the outputElement to make it available for the next call\n",
              "  // to uploadFilesContinue from Python.\n",
              "  outputElement.steps = steps;\n",
              "\n",
              "  return _uploadFilesContinue(outputId);\n",
              "}\n",
              "\n",
              "// This is roughly an async generator (not supported in the browser yet),\n",
              "// where there are multiple asynchronous steps and the Python side is going\n",
              "// to poll for completion of each step.\n",
              "// This uses a Promise to block the python side on completion of each step,\n",
              "// then passes the result of the previous step as the input to the next step.\n",
              "function _uploadFilesContinue(outputId) {\n",
              "  const outputElement = document.getElementById(outputId);\n",
              "  const steps = outputElement.steps;\n",
              "\n",
              "  const next = steps.next(outputElement.lastPromiseValue);\n",
              "  return Promise.resolve(next.value.promise).then((value) => {\n",
              "    // Cache the last promise value to make it available to the next\n",
              "    // step of the generator.\n",
              "    outputElement.lastPromiseValue = value;\n",
              "    return next.value.response;\n",
              "  });\n",
              "}\n",
              "\n",
              "/**\n",
              " * Generator function which is called between each async step of the upload\n",
              " * process.\n",
              " * @param {string} inputId Element ID of the input file picker element.\n",
              " * @param {string} outputId Element ID of the output display.\n",
              " * @return {!Iterable<!Object>} Iterable of next steps.\n",
              " */\n",
              "function* uploadFilesStep(inputId, outputId) {\n",
              "  const inputElement = document.getElementById(inputId);\n",
              "  inputElement.disabled = false;\n",
              "\n",
              "  const outputElement = document.getElementById(outputId);\n",
              "  outputElement.innerHTML = '';\n",
              "\n",
              "  const pickedPromise = new Promise((resolve) => {\n",
              "    inputElement.addEventListener('change', (e) => {\n",
              "      resolve(e.target.files);\n",
              "    });\n",
              "  });\n",
              "\n",
              "  const cancel = document.createElement('button');\n",
              "  inputElement.parentElement.appendChild(cancel);\n",
              "  cancel.textContent = 'Cancel upload';\n",
              "  const cancelPromise = new Promise((resolve) => {\n",
              "    cancel.onclick = () => {\n",
              "      resolve(null);\n",
              "    };\n",
              "  });\n",
              "\n",
              "  // Wait for the user to pick the files.\n",
              "  const files = yield {\n",
              "    promise: Promise.race([pickedPromise, cancelPromise]),\n",
              "    response: {\n",
              "      action: 'starting',\n",
              "    }\n",
              "  };\n",
              "\n",
              "  cancel.remove();\n",
              "\n",
              "  // Disable the input element since further picks are not allowed.\n",
              "  inputElement.disabled = true;\n",
              "\n",
              "  if (!files) {\n",
              "    return {\n",
              "      response: {\n",
              "        action: 'complete',\n",
              "      }\n",
              "    };\n",
              "  }\n",
              "\n",
              "  for (const file of files) {\n",
              "    const li = document.createElement('li');\n",
              "    li.append(span(file.name, {fontWeight: 'bold'}));\n",
              "    li.append(span(\n",
              "        `(${file.type || 'n/a'}) - ${file.size} bytes, ` +\n",
              "        `last modified: ${\n",
              "            file.lastModifiedDate ? file.lastModifiedDate.toLocaleDateString() :\n",
              "                                    'n/a'} - `));\n",
              "    const percent = span('0% done');\n",
              "    li.appendChild(percent);\n",
              "\n",
              "    outputElement.appendChild(li);\n",
              "\n",
              "    const fileDataPromise = new Promise((resolve) => {\n",
              "      const reader = new FileReader();\n",
              "      reader.onload = (e) => {\n",
              "        resolve(e.target.result);\n",
              "      };\n",
              "      reader.readAsArrayBuffer(file);\n",
              "    });\n",
              "    // Wait for the data to be ready.\n",
              "    let fileData = yield {\n",
              "      promise: fileDataPromise,\n",
              "      response: {\n",
              "        action: 'continue',\n",
              "      }\n",
              "    };\n",
              "\n",
              "    // Use a chunked sending to avoid message size limits. See b/62115660.\n",
              "    let position = 0;\n",
              "    do {\n",
              "      const length = Math.min(fileData.byteLength - position, MAX_PAYLOAD_SIZE);\n",
              "      const chunk = new Uint8Array(fileData, position, length);\n",
              "      position += length;\n",
              "\n",
              "      const base64 = btoa(String.fromCharCode.apply(null, chunk));\n",
              "      yield {\n",
              "        response: {\n",
              "          action: 'append',\n",
              "          file: file.name,\n",
              "          data: base64,\n",
              "        },\n",
              "      };\n",
              "\n",
              "      let percentDone = fileData.byteLength === 0 ?\n",
              "          100 :\n",
              "          Math.round((position / fileData.byteLength) * 100);\n",
              "      percent.textContent = `${percentDone}% done`;\n",
              "\n",
              "    } while (position < fileData.byteLength);\n",
              "  }\n",
              "\n",
              "  // All done.\n",
              "  yield {\n",
              "    response: {\n",
              "      action: 'complete',\n",
              "    }\n",
              "  };\n",
              "}\n",
              "\n",
              "scope.google = scope.google || {};\n",
              "scope.google.colab = scope.google.colab || {};\n",
              "scope.google.colab._files = {\n",
              "  _uploadFiles,\n",
              "  _uploadFilesContinue,\n",
              "};\n",
              "})(self);\n",
              "</script> "
            ]
          },
          "metadata": {}
        },
        {
          "output_type": "stream",
          "name": "stdout",
          "text": [
            "Saving 220_F_48883681_3YSVqKeyIvDNGZ9t0A8ynIFaeo64sHDm.jpg to 220_F_48883681_3YSVqKeyIvDNGZ9t0A8ynIFaeo64sHDm.jpg\n",
            "\n",
            "Image tensor shape: torch.Size([1, 3, 224, 224])\n",
            "Ready to pass to ONNX runtime with input name above.\n"
          ]
        }
      ]
    }
  ]
}